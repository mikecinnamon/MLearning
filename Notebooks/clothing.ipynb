{
  "cells": [
    {
      "cell_type": "markdown",
      "metadata": {
        "id": "view-in-github",
        "colab_type": "text"
      },
      "source": [
        "<a href=\"https://colab.research.google.com/github/mikecinnamon/MLearning/blob/main/Notebooks/clothing.ipynb\" target=\"_parent\"><img src=\"https://colab.research.google.com/assets/colab-badge.svg\" alt=\"Open In Colab\"/></a>"
      ]
    },
    {
      "cell_type": "markdown",
      "source": [
        "# [ML-14] Clothing store marketing promotion"
      ],
      "metadata": {
        "id": "bjrijXa1oYzG"
      }
    },
    {
      "cell_type": "markdown",
      "source": [
        "## Importing the data"
      ],
      "metadata": {
        "id": "uhANaZxAoUwq"
      }
    },
    {
      "cell_type": "code",
      "source": [
        "import pandas as pd\n",
        "path = 'https://raw.githubusercontent.com/mikecinnamon/Data/main/'\n",
        "df = pd.read_csv(path + 'clothing.csv', index_col=0)"
      ],
      "metadata": {
        "id": "Qp64tkphohY4"
      },
      "execution_count": null,
      "outputs": []
    },
    {
      "cell_type": "markdown",
      "source": [
        "## Exploring the data"
      ],
      "metadata": {
        "id": "I2Vmd5L0orQ9"
      }
    },
    {
      "cell_type": "code",
      "source": [
        "df.info()"
      ],
      "metadata": {
        "id": "-V_hq9PGo3Ul"
      },
      "execution_count": null,
      "outputs": []
    },
    {
      "cell_type": "code",
      "source": [
        "for i in [4, 5, 6, 7, 8, 24, 25, 26, 31, 32]:\n",
        "  df.iloc[:, i] = df.iloc[:, i].astype('float64')/1000"
      ],
      "metadata": {
        "id": "n6N5Zwm3u9V_"
      },
      "execution_count": null,
      "outputs": []
    },
    {
      "cell_type": "code",
      "source": [
        "df['resp'].mean().round(3)"
      ],
      "metadata": {
        "id": "etDdwgj_phib"
      },
      "execution_count": null,
      "outputs": []
    },
    {
      "cell_type": "markdown",
      "source": [
        "## Train-test split"
      ],
      "metadata": {
        "id": "6_cis2dUvxfQ"
      }
    },
    {
      "cell_type": "code",
      "source": [
        "from sklearn.model_selection import train_test_split\n",
        "df_train, df_test = train_test_split(df, test_size=0.2, random_state=0)"
      ],
      "metadata": {
        "id": "rC_bbKyBpNCB"
      },
      "execution_count": null,
      "outputs": []
    },
    {
      "cell_type": "code",
      "execution_count": null,
      "metadata": {
        "id": "99NS-w_zNrvG"
      },
      "outputs": [],
      "source": [
        "df_train.shape, df_test.shape"
      ]
    },
    {
      "cell_type": "markdown",
      "source": [
        "## Target vectors and features matrices"
      ],
      "metadata": {
        "id": "1v8APNhYNzoj"
      }
    },
    {
      "cell_type": "code",
      "execution_count": null,
      "metadata": {
        "id": "ok0lbDK_OMlL"
      },
      "outputs": [],
      "source": [
        "y_train, X_train = df_train['resp'], df_train.drop(columns='resp')\n",
        "y_test, X_test = df_test['resp'], df_test.drop(columns='resp')"
      ]
    },
    {
      "cell_type": "markdown",
      "source": [
        "## Q1a. Logistic regression model"
      ],
      "metadata": {
        "id": "12nXA_rEOOsU"
      }
    },
    {
      "cell_type": "code",
      "execution_count": null,
      "metadata": {
        "id": "2IgXhY2HOflA"
      },
      "outputs": [],
      "source": [
        "from sklearn.linear_model import LogisticRegression\n",
        "logclf = LogisticRegression(max_iter=1000)\n",
        "logclf.fit(X_train, y_train)"
      ]
    },
    {
      "cell_type": "markdown",
      "source": [
        "# Q1b. Decision tree model"
      ],
      "metadata": {
        "id": "OA49xODaOS1X"
      }
    },
    {
      "cell_type": "code",
      "execution_count": null,
      "metadata": {
        "id": "DQrJl1BAOsiv"
      },
      "outputs": [],
      "source": [
        "from sklearn.tree import DecisionTreeClassifier\n",
        "treeclf = DecisionTreeClassifier(criterion='entropy', max_depth=4)\n",
        "treeclf.fit(X_train, y_train)"
      ]
    },
    {
      "cell_type": "markdown",
      "source": [
        "## Q1c. Random forest model"
      ],
      "metadata": {
        "id": "vonRSpWLsOj6"
      }
    },
    {
      "cell_type": "code",
      "execution_count": null,
      "metadata": {
        "id": "M1v0U8HPOYz8"
      },
      "outputs": [],
      "source": [
        "from sklearn.ensemble import RandomForestClassifier\n",
        "rfclf = RandomForestClassifier(criterion='entropy', max_depth=4, n_estimators=200)\n",
        "rfclf.fit(X_train, y_train)"
      ]
    },
    {
      "cell_type": "markdown",
      "source": [
        "## Q1c. Random forest model"
      ],
      "metadata": {
        "id": "HJEr5XPMsXRV"
      }
    },
    {
      "cell_type": "code",
      "execution_count": null,
      "metadata": {
        "id": "sv4grgT2O04c"
      },
      "outputs": [],
      "source": [
        "from sklearn.ensemble import RandomForestClassifier\n",
        "rfclf = RandomForestClassifier(criterion='entropy', max_depth=4, n_estimators=200)\n",
        "rfclf.fit(X_train, y_train)"
      ]
    },
    {
      "cell_type": "markdown",
      "source": [
        "## Q1d. XGBoost model"
      ],
      "metadata": {
        "id": "00wYNaGesfyj"
      }
    },
    {
      "cell_type": "code",
      "source": [
        "from xgboost import XGBClassifier\n",
        "xgbclf = XGBClassifier(learning_rate=0.1, max_depth=4, n_estimators=200)\n",
        "xgbclf.fit(X_train, y_train)"
      ],
      "metadata": {
        "id": "0i0JABrdskN1"
      },
      "execution_count": null,
      "outputs": []
    },
    {
      "cell_type": "markdown",
      "source": [
        "## Q2a. Plotting function"
      ],
      "metadata": {
        "id": "x2iE1-Bmsmfm"
      }
    },
    {
      "cell_type": "code",
      "source": [
        "from matplotlib import pyplot as plt"
      ],
      "metadata": {
        "id": "AC0Kly9msyvY"
      },
      "execution_count": null,
      "outputs": []
    },
    {
      "cell_type": "code",
      "source": [
        "def score_plot(mod):\n",
        "    score = mod.predict_proba(X_train)[:, 1]\n",
        "    # Set the size of the figure\n",
        "    plt.figure(figsize=(12,5))\n",
        "    # First subplot\n",
        "    plt.subplot(1, 2, 1)\n",
        "    plt.hist(score[y_train == 1], range=(0,1), color='gray', edgecolor='white')\n",
        "    plt.title('Figure a. Scores (positives)')\n",
        "    plt.xlabel('Predictive score')\n",
        "    # Second subplot\n",
        "    plt.subplot(1, 2, 2)\n",
        "    plt.hist(score[y_train == 0], range=(0,1), color='gray', edgecolor='white')\n",
        "    plt.title('Figure b. Scores (negatives)')\n",
        "    plt.xlabel('Predictive score');"
      ],
      "metadata": {
        "id": "IemzJzwQs1J8"
      },
      "execution_count": null,
      "outputs": []
    },
    {
      "cell_type": "markdown",
      "source": [
        "## Q2b. Comparing distributions"
      ],
      "metadata": {
        "id": "j2epW_P1s34C"
      }
    },
    {
      "cell_type": "code",
      "source": [
        "score_plot(logclf)"
      ],
      "metadata": {
        "id": "1VCvST2ss9YB"
      },
      "execution_count": null,
      "outputs": []
    },
    {
      "cell_type": "code",
      "source": [
        "score_plot(treeclf)"
      ],
      "metadata": {
        "id": "L5uqZ79as_Qs"
      },
      "execution_count": null,
      "outputs": []
    },
    {
      "cell_type": "code",
      "source": [
        "score_plot(rfclf)"
      ],
      "metadata": {
        "id": "hxv3JbTOtBt3"
      },
      "execution_count": null,
      "outputs": []
    },
    {
      "cell_type": "code",
      "source": [
        "score_plot(xgbclf)"
      ],
      "metadata": {
        "id": "ZnL0lOrJtD2a"
      },
      "execution_count": null,
      "outputs": []
    },
    {
      "cell_type": "markdown",
      "source": [
        "## Q3a. Testing function"
      ],
      "metadata": {
        "id": "pnGeglmFtGbt"
      }
    },
    {
      "cell_type": "code",
      "source": [
        "def test(mod):\n",
        "    score_train, score_test = mod.predict_proba(X_train)[:, 1], mod.predict_proba(X_test)[:, 1]\n",
        "    y_pred_train, y_pred_test = score_train > 0.2, score_test > 0.2\n",
        "    tp_train = y_pred_train[y_train == 1].mean().round(3)\n",
        "    fp_train = y_pred_train[y_train == 0].mean().round(3)\n",
        "    tp_test = y_pred_test[y_test == 1].mean().round(3)\n",
        "    fp_test = y_pred_test[y_test == 0].mean().round(3)\n",
        "    return (tp_train, fp_train), (tp_test, fp_test)"
      ],
      "metadata": {
        "id": "7Xyw18kBtKhs"
      },
      "execution_count": null,
      "outputs": []
    },
    {
      "cell_type": "markdown",
      "source": [
        "## Q3b. Comparing stats"
      ],
      "metadata": {
        "id": "I-DKVFdQtOxl"
      }
    },
    {
      "cell_type": "code",
      "source": [
        "test(logclf)"
      ],
      "metadata": {
        "id": "idb1sa_DtR8g"
      },
      "execution_count": null,
      "outputs": []
    },
    {
      "cell_type": "code",
      "source": [
        "test(rfclf)"
      ],
      "metadata": {
        "id": "y3JFyh2FtT3u"
      },
      "execution_count": null,
      "outputs": []
    },
    {
      "cell_type": "code",
      "source": [
        "test(xgbclf)"
      ],
      "metadata": {
        "id": "ZYMFEGuYtVZ_"
      },
      "execution_count": null,
      "outputs": []
    }
  ],
  "metadata": {
    "colab": {
      "provenance": [],
      "gpuType": "T4",
      "authorship_tag": "ABX9TyOlaBqRnWNTEd+TOlVImtGX",
      "include_colab_link": true
    },
    "kernelspec": {
      "display_name": "Python 3",
      "name": "python3"
    },
    "language_info": {
      "name": "python"
    }
  },
  "nbformat": 4,
  "nbformat_minor": 0
}
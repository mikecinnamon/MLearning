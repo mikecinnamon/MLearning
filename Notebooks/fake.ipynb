{
  "nbformat": 4,
  "nbformat_minor": 0,
  "metadata": {
    "colab": {
      "provenance": [],
      "gpuType": "T4",
      "authorship_tag": "ABX9TyMe/XqKsDRWrmH9Ml2wAf7y",
      "include_colab_link": true
    },
    "kernelspec": {
      "name": "python3",
      "display_name": "Python 3"
    },
    "language_info": {
      "name": "python"
    },
    "accelerator": "GPU"
  },
  "cells": [
    {
      "cell_type": "markdown",
      "metadata": {
        "id": "view-in-github",
        "colab_type": "text"
      },
      "source": [
        "<a href=\"https://colab.research.google.com/github/mikecinnamon/MLearning/blob/main/Notebooks/fake.ipynb\" target=\"_parent\"><img src=\"https://colab.research.google.com/assets/colab-badge.svg\" alt=\"Open In Colab\"/></a>"
      ]
    },
    {
      "cell_type": "markdown",
      "source": [
        "# [ML-23] Example - Fake news detection"
      ],
      "metadata": {
        "id": "MWp8JJx99dio"
      }
    },
    {
      "cell_type": "markdown",
      "source": [
        "## Importing the data"
      ],
      "metadata": {
        "id": "8huztSAh9pDX"
      }
    },
    {
      "cell_type": "code",
      "source": [
        "import pandas as pd, numpy as np\n",
        "path = 'https://raw.githubusercontent.com/mikecinnamon/Data/main/'\n",
        "df1 = pd.read_csv(path + 'fake1.csv.zip', index_col=0)\n",
        "df2 = pd.read_csv(path + 'fake2.csv.zip', index_col=0)\n",
        "df = pd.concat([df1, df2])"
      ],
      "metadata": {
        "id": "hFFjH_6Z9xtE"
      },
      "execution_count": null,
      "outputs": []
    },
    {
      "cell_type": "code",
      "source": [
        "df.info()"
      ],
      "metadata": {
        "id": "bl04k2HR91JZ"
      },
      "execution_count": null,
      "outputs": []
    },
    {
      "cell_type": "code",
      "source": [
        "df.head()"
      ],
      "metadata": {
        "id": "95fdyifR98zG"
      },
      "execution_count": null,
      "outputs": []
    },
    {
      "cell_type": "markdown",
      "source": [
        "## Q1. Cleaning the data"
      ],
      "metadata": {
        "id": "3J-x38Rx-AAY"
      }
    },
    {
      "cell_type": "code",
      "source": [
        "df = df.drop(columns=['author']).dropna()\n",
        "df.info()"
      ],
      "metadata": {
        "id": "1XDTvHr2-MJb"
      },
      "execution_count": null,
      "outputs": []
    },
    {
      "cell_type": "code",
      "source": [
        "pd.concat([df['title'].str.len().describe(), df['text'].str.len().describe()], axis=1)"
      ],
      "metadata": {
        "id": "ZZIApqCC-QZd"
      },
      "execution_count": null,
      "outputs": []
    },
    {
      "cell_type": "code",
      "source": [
        "df['title'][df['title'].str.len() < 5]"
      ],
      "metadata": {
        "id": "Cwm5SZKk-VJA"
      },
      "execution_count": null,
      "outputs": []
    },
    {
      "cell_type": "code",
      "source": [
        "df['label'].mean().round(3)"
      ],
      "metadata": {
        "id": "Am-E_jUH-bNq"
      },
      "execution_count": null,
      "outputs": []
    },
    {
      "cell_type": "markdown",
      "source": [
        "## Q2. Encoding the titles"
      ],
      "metadata": {
        "id": "4aRD4Yu3-eco"
      }
    },
    {
      "cell_type": "code",
      "source": [
        "from sentence_transformers import SentenceTransformer"
      ],
      "metadata": {
        "id": "GRURJ8JT-w_r"
      },
      "execution_count": null,
      "outputs": []
    },
    {
      "cell_type": "code",
      "source": [
        "model = SentenceTransformer('all-MiniLM-L12-v2')"
      ],
      "metadata": {
        "id": "NtBBNCcP-85q"
      },
      "execution_count": null,
      "outputs": []
    },
    {
      "cell_type": "code",
      "source": [
        "title = df['title'].to_list()"
      ],
      "metadata": {
        "id": "uOQL1VEMAhSO"
      },
      "execution_count": null,
      "outputs": []
    },
    {
      "cell_type": "code",
      "source": [
        "title_embed = model.encode(title, output_value='sentence_embedding')"
      ],
      "metadata": {
        "id": "zJxTF2VBB7sH"
      },
      "execution_count": null,
      "outputs": []
    },
    {
      "cell_type": "code",
      "source": [
        "title_embed.shape"
      ],
      "metadata": {
        "id": "eueaVv-UCDEu"
      },
      "execution_count": null,
      "outputs": []
    },
    {
      "cell_type": "markdown",
      "source": [
        "## Q3. Logistic regression model"
      ],
      "metadata": {
        "id": "TmOujvkWCYpr"
      }
    },
    {
      "cell_type": "code",
      "source": [
        "y = df['label']\n",
        "X = title_embed"
      ],
      "metadata": {
        "id": "lSCdG2KKC6bU"
      },
      "execution_count": null,
      "outputs": []
    },
    {
      "cell_type": "code",
      "source": [
        "from sklearn.linear_model import LogisticRegression\n",
        "clf = LogisticRegression()"
      ],
      "metadata": {
        "id": "j1L6sFzsI_2_"
      },
      "execution_count": null,
      "outputs": []
    },
    {
      "cell_type": "code",
      "source": [
        "clf.fit(X, y)\n",
        "round(clf.score(X, y), 3)"
      ],
      "metadata": {
        "id": "ZLfSSpaBJDGo"
      },
      "execution_count": null,
      "outputs": []
    },
    {
      "cell_type": "code",
      "source": [
        "y_pred = clf.predict(X)"
      ],
      "metadata": {
        "id": "cg6SAZvRJGHN"
      },
      "execution_count": null,
      "outputs": []
    },
    {
      "cell_type": "code",
      "source": [
        "from sklearn.metrics import confusion_matrix\n",
        "confusion_matrix(y, y_pred)"
      ],
      "metadata": {
        "id": "BeigYmXSJVgY"
      },
      "execution_count": null,
      "outputs": []
    },
    {
      "cell_type": "markdown",
      "source": [
        "## Q4. Distribution of the predictive scores"
      ],
      "metadata": {
        "id": "3cLx7nC9JXCf"
      }
    },
    {
      "cell_type": "code",
      "source": [
        "df['title_score'] = clf.predict_proba(X)[:, 1]"
      ],
      "metadata": {
        "id": "kQlRG2xZJeGc"
      },
      "execution_count": null,
      "outputs": []
    },
    {
      "cell_type": "code",
      "source": [
        "from matplotlib import pyplot as plt\n",
        "# Set the size of the figure\n",
        "plt.figure(figsize=(12,5))\n",
        "# First subplot\n",
        "plt.subplot(1, 2, 1)\n",
        "plt.hist(df['title_score'][y == 1], range=(0,1), color='gray', edgecolor='white')\n",
        "plt.title('Figure 1.a. Scores (fakes)')\n",
        "plt.xlabel('Fake score')\n",
        "# Second subplot\n",
        "plt.subplot(1, 2, 2)\n",
        "plt.hist(df['title_score'][y == 0], range=(0,1), color='gray', edgecolor='white')\n",
        "plt.title('Figure 1.b. Scores (non-fakes)')\n",
        "plt.xlabel('Fake score');"
      ],
      "metadata": {
        "id": "n0SN8s2TJiOC"
      },
      "execution_count": null,
      "outputs": []
    }
  ]
}
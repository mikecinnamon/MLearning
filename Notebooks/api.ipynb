{
  "nbformat": 4,
  "nbformat_minor": 0,
  "metadata": {
    "colab": {
      "provenance": [],
      "authorship_tag": "ABX9TyO1FNbsDgV33MdumQB0e5YE",
      "include_colab_link": true
    },
    "kernelspec": {
      "name": "python3",
      "display_name": "Python 3"
    },
    "language_info": {
      "name": "python"
    }
  },
  "cells": [
    {
      "cell_type": "markdown",
      "metadata": {
        "id": "view-in-github",
        "colab_type": "text"
      },
      "source": [
        "<a href=\"https://colab.research.google.com/github/mikecinnamon/MLearning/blob/main/Notebooks/api.ipynb\" target=\"_parent\"><img src=\"https://colab.research.google.com/assets/colab-badge.svg\" alt=\"Open In Colab\"/></a>"
      ]
    },
    {
      "cell_type": "markdown",
      "source": [
        "# [ML-25] LLM API tutorial ##"
      ],
      "metadata": {
        "id": "iTDAokoNnJR2"
      }
    },
    {
      "cell_type": "markdown",
      "source": [
        "# Chatting through the API"
      ],
      "metadata": {
        "id": "SH-D9-RdnNQB"
      }
    },
    {
      "cell_type": "code",
      "source": [
        "pip install cohere"
      ],
      "metadata": {
        "id": "_iaMpVdk209y"
      },
      "execution_count": null,
      "outputs": []
    },
    {
      "cell_type": "code",
      "source": [
        "import cohere\n",
        "co = cohere.ClientV2(api_key='bfxqhSNJ5OaBPsjXvXLbzpCJjoS8EuZrN05QT9qj')"
      ],
      "metadata": {
        "id": "JdLlbcuunQ_F"
      },
      "execution_count": null,
      "outputs": []
    },
    {
      "cell_type": "code",
      "source": [
        "model_name = 'command-r-plus-08-2024'"
      ],
      "metadata": {
        "id": "k4aHc3vV2fi2"
      },
      "execution_count": null,
      "outputs": []
    },
    {
      "cell_type": "code",
      "source": [
        "input_message = [{'role': 'user', 'content': 'Tell me, in no more than 25 words, what is machine learning'}]"
      ],
      "metadata": {
        "id": "CQGS3GaD2--5"
      },
      "execution_count": null,
      "outputs": []
    },
    {
      "cell_type": "code",
      "source": [
        "response = co.chat(model=model_name, messages=input_message)"
      ],
      "metadata": {
        "id": "byNeRUf23HzI"
      },
      "execution_count": null,
      "outputs": []
    },
    {
      "cell_type": "code",
      "source": [
        "response"
      ],
      "metadata": {
        "id": "RDSbv3kc3TcS"
      },
      "execution_count": null,
      "outputs": []
    },
    {
      "cell_type": "code",
      "source": [
        "response.message.content[0].text"
      ],
      "metadata": {
        "id": "g6JaR66g37PF"
      },
      "execution_count": null,
      "outputs": []
    },
    {
      "cell_type": "code",
      "source": [
        "def mychat(input):\n",
        "    return co.chat(model=model_name, messages=input).message.content[0].text"
      ],
      "metadata": {
        "id": "-OHiyBGN4APM"
      },
      "execution_count": null,
      "outputs": []
    },
    {
      "cell_type": "markdown",
      "source": [
        "## Creating a conversation"
      ],
      "metadata": {
        "id": "zxOmQJYM4Dbn"
      }
    },
    {
      "cell_type": "code",
      "source": [
        "query1 = 'Who is the president of USA?'\n",
        "query2 = 'How old is he/she?'"
      ],
      "metadata": {
        "id": "lRVB8vnt4KKW"
      },
      "execution_count": null,
      "outputs": []
    },
    {
      "cell_type": "code",
      "source": [
        "mes1 = [{'role': 'user', 'content': query1}]\n",
        "resp1 = mychat(mes1)\n",
        "resp1"
      ],
      "metadata": {
        "id": "eBCDL-Bx4PJQ"
      },
      "execution_count": null,
      "outputs": []
    },
    {
      "cell_type": "code",
      "source": [
        "mes2 = mes1 + [{'role': 'assistant', 'content': resp1}] + [{'role': 'user', 'content': query2}]\n",
        "mes2"
      ],
      "metadata": {
        "id": "Ed-vzXJu4UE4"
      },
      "execution_count": null,
      "outputs": []
    },
    {
      "cell_type": "code",
      "source": [
        "resp2 = mychat(mes2)\n",
        "resp2"
      ],
      "metadata": {
        "id": "90OVNt5i4gps"
      },
      "execution_count": null,
      "outputs": []
    },
    {
      "cell_type": "markdown",
      "source": [
        "## The roles in the chat"
      ],
      "metadata": {
        "id": "6au04xz94s6A"
      }
    },
    {
      "cell_type": "code",
      "source": [
        "query = 'Who is the president of USA?'"
      ],
      "metadata": {
        "id": "n1zSxqjZ46BZ"
      },
      "execution_count": null,
      "outputs": []
    },
    {
      "cell_type": "code",
      "source": [
        "length = 'Respond the following question in no more than 10 words'"
      ],
      "metadata": {
        "id": "Nzr3E9Uz4-65"
      },
      "execution_count": null,
      "outputs": []
    },
    {
      "cell_type": "code",
      "source": [
        "resp1 = mychat(mes1)\n",
        "resp1"
      ],
      "metadata": {
        "id": "a3dR-AG15JtO"
      },
      "execution_count": null,
      "outputs": []
    },
    {
      "cell_type": "code",
      "source": [
        "style = 'Include middle names in your response'\n",
        "mes2 = [{'role': 'system', 'content': length}, {'role': 'system', 'content': style}, {'role': 'user', 'content': query}]\n",
        "resp2 = mychat(mes2)\n",
        "resp2"
      ],
      "metadata": {
        "id": "3VzSnyNT5NNv"
      },
      "execution_count": null,
      "outputs": []
    },
    {
      "cell_type": "markdown",
      "source": [
        "## Embeddings"
      ],
      "metadata": {
        "id": "t-EMmm6t5V5N"
      }
    },
    {
      "cell_type": "code",
      "source": [
        "model_name = 'embed-english-v3.0'"
      ],
      "metadata": {
        "id": "bLm1R2DmlXNc"
      },
      "execution_count": null,
      "outputs": []
    },
    {
      "cell_type": "code",
      "source": [
        "text1 = '''Machine learning (ML) is a field of study in artificial intelligence concerned\n",
        "    with the development and study of statistical algorithms that can learn from data and\n",
        "    generalize to unseen data and thus perform tasks without explicit instructions.'''\n",
        "text2 = '''Machine learning is a subset of artificial intelligence that gives systems the\n",
        "    ability to learn and optimize processes without having to be consistently programmed.'''\n",
        "text3 = '''This course on machine learning is very interesting.'''\n",
        "texts=[text1, text2, text3]"
      ],
      "metadata": {
        "id": "ycht4VpBlZdL"
      },
      "execution_count": null,
      "outputs": []
    },
    {
      "cell_type": "code",
      "source": [
        "response = co.embed(model=model_name, input_type='search_document', embedding_types=['float'], texts=texts)"
      ],
      "metadata": {
        "id": "6mRP_v8ClntL"
      },
      "execution_count": null,
      "outputs": []
    },
    {
      "cell_type": "code",
      "source": [
        "import numpy as np\n",
        "embeds = np.array(response.embeddings.float)"
      ],
      "metadata": {
        "id": "dMJ0qTgtlvjr"
      },
      "execution_count": null,
      "outputs": []
    },
    {
      "cell_type": "code",
      "source": [
        "embeds.shape"
      ],
      "metadata": {
        "id": "RC-rqxn-l3o2"
      },
      "execution_count": null,
      "outputs": []
    },
    {
      "cell_type": "code",
      "source": [
        "embeds[:, :5]"
      ],
      "metadata": {
        "id": "anIvy5KOl5kr"
      },
      "execution_count": null,
      "outputs": []
    },
    {
      "cell_type": "code",
      "source": [
        "(embeds**2).sum(axis=1)"
      ],
      "metadata": {
        "id": "Y6y_WHLxmFTx"
      },
      "execution_count": null,
      "outputs": []
    },
    {
      "cell_type": "code",
      "source": [
        "from sklearn.metrics.pairwise import cosine_similarity"
      ],
      "metadata": {
        "id": "sXXeo_vZmd1M"
      },
      "execution_count": null,
      "outputs": []
    },
    {
      "cell_type": "code",
      "source": [
        "cosine_similarity(embeds).round(3)"
      ],
      "metadata": {
        "id": "OuDd2cznmlPm"
      },
      "execution_count": null,
      "outputs": []
    },
    {
      "cell_type": "markdown",
      "source": [
        "## Reranking"
      ],
      "metadata": {
        "id": "YQ911nr5oC0q"
      }
    },
    {
      "cell_type": "code",
      "source": [
        "model_name = 'rerank-english-v3.0'"
      ],
      "metadata": {
        "id": "jsRbBHAXpNfq"
      },
      "execution_count": null,
      "outputs": []
    },
    {
      "cell_type": "code",
      "source": [
        "query = 'Are there fitness-related perks?'"
      ],
      "metadata": {
        "id": "b5bUoeB2pQE6"
      },
      "execution_count": null,
      "outputs": []
    },
    {
      "cell_type": "code",
      "source": [
        "doc1 = '''Reimbursing Travel Expenses: Easily manage your travel expenses by submitting them\n",
        "through our finance tool. Approvals are prompt and straightforward.'''\n",
        "doc2 = '''Working from Abroad: Working remotely from another country is possible.\n",
        "Simply coordinate with your manager and ensure your availability during core hours.'''\n",
        "doc3 = '''Health and Wellness Benefits: We care about your well-being and offer gym\n",
        "memberships, on-site yoga classes, and comprehensive health insurance.'''\n",
        "doc4 = '''Performance Reviews Frequency: We conduct informal check-ins every quarter\n",
        "and formal performance reviews twice a year.'''\n",
        "docs = [doc1, doc2, doc3, doc4]"
      ],
      "metadata": {
        "id": "OA3bJ526pYkO"
      },
      "execution_count": null,
      "outputs": []
    },
    {
      "cell_type": "code",
      "source": [
        "response = co.rerank(model=model_name, query=query, documents=docs, top_n=4)\n",
        "response"
      ],
      "metadata": {
        "id": "u5e8l7GXpccj"
      },
      "execution_count": null,
      "outputs": []
    },
    {
      "cell_type": "code",
      "source": [
        "import pandas as pd\n",
        "pd.DataFrame({'index': [response.results[i].index for i in range(len(docs))],\n",
        "    'relevance_score': [response.results[i].relevance_score for i in range(len(docs))]})"
      ],
      "metadata": {
        "id": "wMz2dVuepjy0"
      },
      "execution_count": null,
      "outputs": []
    }
  ]
}
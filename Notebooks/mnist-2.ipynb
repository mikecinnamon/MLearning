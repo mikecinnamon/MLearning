{
  "nbformat": 4,
  "nbformat_minor": 0,
  "metadata": {
    "colab": {
      "provenance": [],
      "gpuType": "T4",
      "authorship_tag": "ABX9TyMKOfDgvQz8/6C2/TGV7jmr",
      "include_colab_link": true
    },
    "kernelspec": {
      "name": "python3",
      "display_name": "Python 3"
    },
    "language_info": {
      "name": "python"
    },
    "accelerator": "GPU"
  },
  "cells": [
    {
      "cell_type": "markdown",
      "metadata": {
        "id": "view-in-github",
        "colab_type": "text"
      },
      "source": [
        "<a href=\"https://colab.research.google.com/github/mikecinnamon/MLearning/blob/main/Notebooks/mnist-2.ipynb\" target=\"_parent\"><img src=\"https://colab.research.google.com/assets/colab-badge.svg\" alt=\"Open In Colab\"/></a>"
      ]
    },
    {
      "cell_type": "markdown",
      "source": [
        "# [ML-19] The MNIST data (2)"
      ],
      "metadata": {
        "id": "t0U1gyWNTflM"
      }
    },
    {
      "cell_type": "markdown",
      "source": [
        "## Importing the data"
      ],
      "metadata": {
        "id": "d_C0Ud2fTiyC"
      }
    },
    {
      "cell_type": "code",
      "source": [
        "import numpy as np, pandas as pd\n",
        "path = 'https://raw.githubusercontent.com/mikecinnamon/Data/main/'\n",
        "df = pd.read_csv(path + 'mnist.csv.zip')"
      ],
      "metadata": {
        "id": "1R6rwYTYUY3f"
      },
      "execution_count": null,
      "outputs": []
    },
    {
      "cell_type": "code",
      "source": [
        "y = df.iloc[:, 0].values\n",
        "X = df.iloc[:, 1:].values"
      ],
      "metadata": {
        "id": "5O_ECGu_Ug1X"
      },
      "execution_count": null,
      "outputs": []
    },
    {
      "cell_type": "markdown",
      "source": [
        "## Q1. Train-test split"
      ],
      "metadata": {
        "id": "Di_GKOu1Uj1t"
      }
    },
    {
      "cell_type": "code",
      "source": [
        "from sklearn import model_selection\n",
        "X_train, X_test, y_train, y_test = model_selection.train_test_split(X, y, test_size=1/7, random_state=0)"
      ],
      "metadata": {
        "id": "rFkdKM9QUtaa"
      },
      "execution_count": null,
      "outputs": []
    },
    {
      "cell_type": "markdown",
      "source": [
        "## Q2. MLP model"
      ],
      "metadata": {
        "id": "XjE4L_7wUxOE"
      }
    },
    {
      "cell_type": "code",
      "source": [
        "from keras import Input, models, layers"
      ],
      "metadata": {
        "id": "NcFDi2QHVIls"
      },
      "execution_count": null,
      "outputs": []
    },
    {
      "cell_type": "code",
      "source": [
        "input_tensor = Input(shape=(784,))\n",
        "x = layers.Dense(32, activation='relu')(input_tensor)\n",
        "output_tensor = layers.Dense(10, activation='softmax')(x)"
      ],
      "metadata": {
        "id": "dQhfAGPhVOzt"
      },
      "execution_count": null,
      "outputs": []
    },
    {
      "cell_type": "code",
      "source": [
        "clf1 = models.Model(input_tensor, output_tensor)"
      ],
      "metadata": {
        "id": "V1AU88yvVW9u"
      },
      "execution_count": null,
      "outputs": []
    },
    {
      "cell_type": "code",
      "source": [
        "clf1.summary()"
      ],
      "metadata": {
        "id": "By7K0_vyYeUb"
      },
      "execution_count": null,
      "outputs": []
    },
    {
      "cell_type": "code",
      "source": [
        "clf1.compile(optimizer='adam', loss='sparse_categorical_crossentropy', metrics=['acc'])"
      ],
      "metadata": {
        "id": "3MPfvzT_VotD"
      },
      "execution_count": null,
      "outputs": []
    },
    {
      "cell_type": "code",
      "source": [
        "clf1.fit(X_train, y_train, epochs=20, validation_data=(X_test, y_test));"
      ],
      "metadata": {
        "id": "7htcy_iiWqEc"
      },
      "execution_count": null,
      "outputs": []
    },
    {
      "cell_type": "markdown",
      "source": [
        "## Q3. Prediction with a MLP model"
      ],
      "metadata": {
        "id": "0Ij_df5CdmcB"
      }
    },
    {
      "cell_type": "code",
      "source": [
        "clf1.predict(X_test[:1, :])"
      ],
      "metadata": {
        "id": "HGgdhvZ-fbOW"
      },
      "execution_count": null,
      "outputs": []
    },
    {
      "cell_type": "code",
      "source": [
        "y_test[0]"
      ],
      "metadata": {
        "id": "DonfB6u6gvYr"
      },
      "execution_count": null,
      "outputs": []
    },
    {
      "cell_type": "markdown",
      "source": [
        "## Q4. Rescaling the data"
      ],
      "metadata": {
        "id": "3AvCKkm2gwi1"
      }
    },
    {
      "cell_type": "code",
      "source": [
        "X = X/255"
      ],
      "metadata": {
        "id": "V4QztTEOg4bv"
      },
      "execution_count": null,
      "outputs": []
    },
    {
      "cell_type": "code",
      "source": [
        "X_train, X_test = model_selection.train_test_split(X, test_size=1/7, random_state=0)"
      ],
      "metadata": {
        "id": "GG3snUo4g7gI"
      },
      "execution_count": null,
      "outputs": []
    },
    {
      "cell_type": "code",
      "source": [
        "clf2 = models.Model(input_tensor, output_tensor)\n",
        "clf2.compile(optimizer='adam', loss='sparse_categorical_crossentropy', metrics=['acc'])\n",
        "clf2.fit(X_train, y_train, epochs=20, validation_data=(X_test, y_test));"
      ],
      "metadata": {
        "id": "rUQcWun9hOwW"
      },
      "execution_count": null,
      "outputs": []
    },
    {
      "cell_type": "markdown",
      "source": [
        "## Q5. CNN model"
      ],
      "metadata": {
        "id": "hPGg3rn_hR_8"
      }
    },
    {
      "cell_type": "code",
      "source": [
        "X_train, X_test = X_train.reshape(60000, 28, 28, 1), X_test.reshape(10000, 28, 28, 1)"
      ],
      "metadata": {
        "id": "QyZOLZB9h9NB"
      },
      "execution_count": null,
      "outputs": []
    },
    {
      "cell_type": "code",
      "source": [
        "input_tensor = Input(shape=(28, 28, 1))\n",
        "x1 = layers.Conv2D(32, (3, 3), activation='relu')(input_tensor)\n",
        "x2 = layers.MaxPooling2D((2, 2))(x1)\n",
        "x3 = layers.Conv2D(64, (3, 3), activation='relu')(x2)\n",
        "x4 = layers.MaxPooling2D((2, 2))(x3)\n",
        "x5 = layers.Conv2D(64, (3, 3), activation='relu')(x4)\n",
        "x6 = layers.Flatten()(x5)\n",
        "x7 = layers.Dense(64, activation='relu')(x6)\n",
        "output_tensor = layers.Dense(10, activation='softmax')(x7)\n",
        "clf3 = models.Model(input_tensor, output_tensor)"
      ],
      "metadata": {
        "id": "_2ssCcehiEXh"
      },
      "execution_count": null,
      "outputs": []
    },
    {
      "cell_type": "code",
      "source": [
        "clf3.summary()"
      ],
      "metadata": {
        "collapsed": true,
        "id": "CZ8-rIH5k-nv"
      },
      "execution_count": null,
      "outputs": []
    },
    {
      "cell_type": "code",
      "source": [
        "clf3.compile(optimizer='adam', loss='sparse_categorical_crossentropy', metrics=['acc'])\n",
        "clf3.fit(X_train, y_train, epochs=10, validation_data=(X_test, y_test));"
      ],
      "metadata": {
        "id": "poVFcCbEGw18"
      },
      "execution_count": null,
      "outputs": []
    }
  ]
}
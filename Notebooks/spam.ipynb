{
  "nbformat": 4,
  "nbformat_minor": 0,
  "metadata": {
    "colab": {
      "provenance": [],
      "authorship_tag": "ABX9TyMhiAbqYTul0JjX91w8apNn",
      "include_colab_link": true
    },
    "kernelspec": {
      "name": "python3",
      "display_name": "Python 3"
    },
    "language_info": {
      "name": "python"
    }
  },
  "cells": [
    {
      "cell_type": "markdown",
      "metadata": {
        "id": "view-in-github",
        "colab_type": "text"
      },
      "source": [
        "<a href=\"https://colab.research.google.com/github/mikecinnamon/MLearning/blob/main/Notebooks/spam.ipynb\" target=\"_parent\"><img src=\"https://colab.research.google.com/assets/colab-badge.svg\" alt=\"Open In Colab\"/></a>"
      ]
    },
    {
      "cell_type": "markdown",
      "source": [
        "# [MLE-05] Example - The spam filter"
      ],
      "metadata": {
        "id": "fpqah8MmLYus"
      }
    },
    {
      "cell_type": "markdown",
      "source": [
        "## Importing the data"
      ],
      "metadata": {
        "id": "BebIGXuXL43S"
      }
    },
    {
      "cell_type": "code",
      "source": [
        "import pandas as pd\n",
        "path = 'https://raw.githubusercontent.com/mikecinnamon/Data/main/'\n",
        "df = pd.read_csv(path + 'spam.csv')"
      ],
      "metadata": {
        "id": "s81k4Sh5MEzQ"
      },
      "execution_count": null,
      "outputs": []
    },
    {
      "cell_type": "markdown",
      "source": [
        "## Exploring the data"
      ],
      "metadata": {
        "id": "ZFeTXQp7cTQ7"
      }
    },
    {
      "cell_type": "code",
      "source": [
        "df.shape"
      ],
      "metadata": {
        "id": "hRdGzJSkMLvI"
      },
      "execution_count": null,
      "outputs": []
    },
    {
      "cell_type": "code",
      "source": [
        "df.head()"
      ],
      "metadata": {
        "id": "muD_ypGZMX1k"
      },
      "execution_count": null,
      "outputs": []
    },
    {
      "cell_type": "code",
      "source": [
        "df['spam'].mean().round(3)"
      ],
      "metadata": {
        "id": "OVTX9xliMbXy"
      },
      "execution_count": null,
      "outputs": []
    },
    {
      "cell_type": "markdown",
      "source": [
        "## Target vector and feature matrix"
      ],
      "metadata": {
        "id": "KKshIxd-cjFU"
      }
    },
    {
      "cell_type": "code",
      "source": [
        "y = df['spam']\n",
        "X = df.drop(columns='spam')"
      ],
      "metadata": {
        "id": "JZfh-Xz0Mrju"
      },
      "execution_count": null,
      "outputs": []
    },
    {
      "cell_type": "markdown",
      "source": [
        "## Q1. Decision tree classifier (max depth = 2)"
      ],
      "metadata": {
        "id": "drundiRuMmro"
      }
    },
    {
      "cell_type": "code",
      "source": [
        "from sklearn.tree import DecisionTreeClassifier"
      ],
      "metadata": {
        "id": "bEJihm7wNPYU"
      },
      "execution_count": null,
      "outputs": []
    },
    {
      "cell_type": "code",
      "source": [
        "clf1 = DecisionTreeClassifier(criterion='entropy', max_depth=2)"
      ],
      "metadata": {
        "id": "b7p1cDlrdGZY"
      },
      "execution_count": null,
      "outputs": []
    },
    {
      "cell_type": "code",
      "source": [
        "clf1.fit(X, y)"
      ],
      "metadata": {
        "id": "xO9PXihINfen"
      },
      "execution_count": null,
      "outputs": []
    },
    {
      "cell_type": "code",
      "source": [
        "round(clf1.score(X, y), 3)"
      ],
      "metadata": {
        "id": "vTaBe-GwNpYi"
      },
      "execution_count": null,
      "outputs": []
    },
    {
      "cell_type": "code",
      "source": [
        "y_pred1 = clf1.predict(X)"
      ],
      "metadata": {
        "id": "NA-JaBgMOiMZ"
      },
      "execution_count": null,
      "outputs": []
    },
    {
      "cell_type": "code",
      "source": [
        "from sklearn.metrics import confusion_matrix\n",
        "conf1 = confusion_matrix(y, y_pred1)\n",
        "conf1"
      ],
      "metadata": {
        "id": "UoJfTfP5OlpC"
      },
      "execution_count": null,
      "outputs": []
    },
    {
      "cell_type": "code",
      "source": [
        "tp1 = conf1[1, 1]/sum(conf1[1, :])\n",
        "fp1 = conf1[0, 1]/sum(conf1[0, :])\n",
        "round(tp1, 3), round(fp1, 3)"
      ],
      "metadata": {
        "id": "MoWuzprMey2k"
      },
      "execution_count": null,
      "outputs": []
    },
    {
      "cell_type": "markdown",
      "source": [
        "## Q2. Q2. Decision tree classifier (max depth = 3)"
      ],
      "metadata": {
        "id": "Xa5g1x8KOnV8"
      }
    },
    {
      "cell_type": "code",
      "source": [
        "clf2 = DecisionTreeClassifier(criterion='entropy', max_depth=3)\n",
        "clf2.fit(X, y)"
      ],
      "metadata": {
        "id": "oymZE6GsO-_4"
      },
      "execution_count": null,
      "outputs": []
    },
    {
      "cell_type": "code",
      "source": [
        "y_pred2 = clf2.predict(X)\n",
        "conf2 = confusion_matrix(y, y_pred2)\n",
        "conf2"
      ],
      "metadata": {
        "id": "BikmIiW6PGAv"
      },
      "execution_count": null,
      "outputs": []
    },
    {
      "cell_type": "code",
      "source": [
        "tp2 = conf2[1, 1]/sum(conf2[1, :])\n",
        "fp2 = conf2[0, 1]/sum(conf2[0, :])\n",
        "round(tp2, 3), round(fp2, 3)"
      ],
      "metadata": {
        "id": "usKrhwQUPIsZ"
      },
      "execution_count": null,
      "outputs": []
    },
    {
      "cell_type": "markdown",
      "source": [
        "## Q3. Decision tree classifier (max depth = 4)"
      ],
      "metadata": {
        "id": "kGLbmrgSPivG"
      }
    },
    {
      "cell_type": "code",
      "source": [
        "clf3 = DecisionTreeClassifier(criterion='entropy', max_depth=4)\n",
        "clf3.fit(X, y)"
      ],
      "metadata": {
        "id": "Yub6KEtcPx93"
      },
      "execution_count": null,
      "outputs": []
    },
    {
      "cell_type": "code",
      "source": [
        "y_pred3 = clf3.predict(X)\n",
        "conf3 = confusion_matrix(y, y_pred3)\n",
        "conf3"
      ],
      "metadata": {
        "id": "JnkWSW7UQKYY"
      },
      "execution_count": null,
      "outputs": []
    },
    {
      "cell_type": "code",
      "source": [
        "tp3 = conf3[1, 1]/sum(conf3[1, :])\n",
        "fp3 = conf3[0, 1]/sum(conf3[0, :])\n",
        "round(tp3, 3), round(fp3, 3)"
      ],
      "metadata": {
        "id": "TKAYcNqzQSy4"
      },
      "execution_count": null,
      "outputs": []
    },
    {
      "cell_type": "markdown",
      "source": [
        "## Q4. Decision tree classifier (max depth = 5)"
      ],
      "metadata": {
        "id": "E39j8KV4QZhs"
      }
    },
    {
      "cell_type": "code",
      "source": [
        "clf4 = DecisionTreeClassifier(criterion='entropy', max_depth=5)\n",
        "clf4.fit(X, y)"
      ],
      "metadata": {
        "id": "NwXcfLtPRKqC"
      },
      "execution_count": null,
      "outputs": []
    },
    {
      "cell_type": "code",
      "source": [
        "y_pred4 = clf4.predict(X)\n",
        "conf4 = confusion_matrix(y, y_pred4)\n",
        "conf4"
      ],
      "metadata": {
        "id": "v6U1thEdRTOq"
      },
      "execution_count": null,
      "outputs": []
    },
    {
      "cell_type": "code",
      "source": [
        "tp4 = conf4[1, 1]/sum(conf4[1, :])\n",
        "fp4 = conf4[0, 1]/sum(conf4[0, :])\n",
        "round(tp4, 3), round(fp4, 3)"
      ],
      "metadata": {
        "id": "YmwR3eLhSaKt"
      },
      "execution_count": null,
      "outputs": []
    },
    {
      "cell_type": "markdown",
      "source": [
        "## Q5. Feature relevance"
      ],
      "metadata": {
        "id": "MviM0DK4StZM"
      }
    },
    {
      "cell_type": "code",
      "source": [
        "imp = clf4.feature_importances_\n",
        "imp"
      ],
      "metadata": {
        "id": "Dg8ldkFsS523"
      },
      "execution_count": null,
      "outputs": []
    },
    {
      "cell_type": "code",
      "source": [
        "feat_list = pd.Series(imp, index=df.columns[:51])"
      ],
      "metadata": {
        "id": "cHdmG0kLTSHt"
      },
      "execution_count": null,
      "outputs": []
    },
    {
      "cell_type": "code",
      "source": [
        "feat_list[imp > 0].sort_values(ascending=False).round(3)"
      ],
      "metadata": {
        "id": "8LxAoGxvj405"
      },
      "execution_count": null,
      "outputs": []
    }
  ]
}
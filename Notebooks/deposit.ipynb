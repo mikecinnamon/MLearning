{
  "nbformat": 4,
  "nbformat_minor": 0,
  "metadata": {
    "colab": {
      "provenance": [],
      "authorship_tag": "ABX9TyPivTHr7ceZaytphRg7CvOL",
      "include_colab_link": true
    },
    "kernelspec": {
      "name": "python3",
      "display_name": "Python 3"
    },
    "language_info": {
      "name": "python"
    }
  },
  "cells": [
    {
      "cell_type": "markdown",
      "metadata": {
        "id": "view-in-github",
        "colab_type": "text"
      },
      "source": [
        "<a href=\"https://colab.research.google.com/github/mikecinnamon/MLearning/blob/main/Notebooks/deposit.ipynb\" target=\"_parent\"><img src=\"https://colab.research.google.com/assets/colab-badge.svg\" alt=\"Open In Colab\"/></a>"
      ]
    },
    {
      "cell_type": "markdown",
      "source": [
        "# [MLE-10]  Example - Direct marketing of term deposits"
      ],
      "metadata": {
        "id": "fpqah8MmLYus"
      }
    },
    {
      "cell_type": "markdown",
      "source": [
        "## Importing the data"
      ],
      "metadata": {
        "id": "BebIGXuXL43S"
      }
    },
    {
      "cell_type": "code",
      "source": [
        "import pandas as pd\n",
        "path = 'https://raw.githubusercontent.com/mikecinnamon/Data/main/'\n",
        "df = pd.read_csv(path + 'deposit.csv', index_col=0)"
      ],
      "metadata": {
        "id": "s81k4Sh5MEzQ"
      },
      "execution_count": null,
      "outputs": []
    },
    {
      "cell_type": "code",
      "source": [
        "df.info()"
      ],
      "metadata": {
        "id": "hRdGzJSkMLvI"
      },
      "execution_count": null,
      "outputs": []
    },
    {
      "cell_type": "code",
      "source": [
        "df.head()"
      ],
      "metadata": {
        "id": "muD_ypGZMX1k"
      },
      "execution_count": null,
      "outputs": []
    },
    {
      "cell_type": "code",
      "source": [
        "df['deposit'].mean().round(3)"
      ],
      "metadata": {
        "id": "OVTX9xliMbXy"
      },
      "execution_count": null,
      "outputs": []
    },
    {
      "cell_type": "markdown",
      "source": [
        "## Q1. Logistic regression model"
      ],
      "metadata": {
        "id": "drundiRuMmro"
      }
    },
    {
      "cell_type": "code",
      "source": [
        "y = df['deposit']\n",
        "X = df.drop(columns='deposit')"
      ],
      "metadata": {
        "id": "JZfh-Xz0Mrju"
      },
      "execution_count": null,
      "outputs": []
    },
    {
      "cell_type": "code",
      "source": [
        "from sklearn.linear_model import LogisticRegression\n",
        "clf = LogisticRegression(max_iter=3500)\n",
        "clf.fit(X, y)"
      ],
      "metadata": {
        "id": "bEJihm7wNPYU"
      },
      "execution_count": null,
      "outputs": []
    },
    {
      "cell_type": "code",
      "source": [
        "y_pred = clf.predict(X)\n",
        "conf = pd.crosstab(y, y_pred)\n",
        "conf"
      ],
      "metadata": {
        "id": "xO9PXihINfen"
      },
      "execution_count": null,
      "outputs": []
    },
    {
      "cell_type": "code",
      "source": [
        "acc = (y == y_pred).mean().round(3)"
      ],
      "metadata": {
        "id": "vTaBe-GwNpYi"
      },
      "execution_count": null,
      "outputs": []
    },
    {
      "cell_type": "code",
      "source": [
        "acc1 = y_pred[y == 1].mean().round(3)\n",
        "acc0 = (1 - y_pred[y == 0]).mean().round(3)"
      ],
      "metadata": {
        "id": "NA-JaBgMOiMZ"
      },
      "execution_count": null,
      "outputs": []
    },
    {
      "cell_type": "code",
      "source": [
        "acc, acc1, acc0"
      ],
      "metadata": {
        "id": "UoJfTfP5OlpC"
      },
      "execution_count": null,
      "outputs": []
    },
    {
      "cell_type": "markdown",
      "source": [
        "## Q2. Predictive scores"
      ],
      "metadata": {
        "id": "Xa5g1x8KOnV8"
      }
    },
    {
      "cell_type": "code",
      "source": [
        "df['score'] = clf.predict_proba(X)[:, 1]"
      ],
      "metadata": {
        "id": "oymZE6GsO-_4"
      },
      "execution_count": null,
      "outputs": []
    },
    {
      "cell_type": "code",
      "source": [
        "df[['deposit', 'score']]"
      ],
      "metadata": {
        "id": "BikmIiW6PGAv"
      },
      "execution_count": null,
      "outputs": []
    },
    {
      "cell_type": "code",
      "source": [
        "df['score'].describe()"
      ],
      "metadata": {
        "id": "usKrhwQUPIsZ"
      },
      "execution_count": null,
      "outputs": []
    },
    {
      "cell_type": "code",
      "source": [
        "from matplotlib import pyplot as plt\n",
        "# Set the size of the figure\n",
        "plt.figure(figsize=(12,5))\n",
        "# First subplot\n",
        "plt.subplot(1, 2, 1)\n",
        "plt.hist(df['score'][y == 1], color='gray', edgecolor='white')\n",
        "plt.title('Figure 1.a. Scores (subscribers)')\n",
        "plt.xlabel('Subscription score')\n",
        "# Second subplot\n",
        "plt.subplot(1, 2, 2)\n",
        "plt.hist(df['score'][y == 0], color='gray', edgecolor='white')\n",
        "plt.title('Figure 1.b. Scores (non-subscribers)')\n",
        "plt.xlabel('Subscription score');"
      ],
      "metadata": {
        "id": "-a1nlRaEPW-e"
      },
      "execution_count": null,
      "outputs": []
    },
    {
      "cell_type": "markdown",
      "source": [
        "## Q3. Set a threshold for the scores"
      ],
      "metadata": {
        "id": "kGLbmrgSPivG"
      }
    },
    {
      "cell_type": "code",
      "source": [
        "y_pred = (df['score'] > 0.11).astype(int)"
      ],
      "metadata": {
        "id": "Yub6KEtcPx93"
      },
      "execution_count": null,
      "outputs": []
    },
    {
      "cell_type": "code",
      "source": [
        "conf = pd.crosstab(y, y_pred)\n",
        "conf"
      ],
      "metadata": {
        "id": "JnkWSW7UQKYY"
      },
      "execution_count": null,
      "outputs": []
    },
    {
      "cell_type": "code",
      "source": [
        "acc = (y == y_pred).mean().round(3)\n",
        "acc1 = y_pred[y == 1].mean().round(3)\n",
        "acc0 = (1 - y_pred[y == 0]).mean().round(3)\n",
        "acc, acc1, acc0"
      ],
      "metadata": {
        "id": "TKAYcNqzQSy4"
      },
      "execution_count": null,
      "outputs": []
    },
    {
      "cell_type": "markdown",
      "source": [
        "## Q4. Target of 4,000 subscriptions"
      ],
      "metadata": {
        "id": "E39j8KV4QZhs"
      }
    },
    {
      "cell_type": "code",
      "source": [
        "df = df.sort_values('score', ascending=False)\n",
        "df[['deposit', 'score']]"
      ],
      "metadata": {
        "id": "NwXcfLtPRKqC"
      },
      "execution_count": null,
      "outputs": []
    },
    {
      "cell_type": "code",
      "source": [
        "df['cum_subscription'] = df['deposit'].cumsum()\n",
        "df[['deposit', 'score', 'cum_subscription']]"
      ],
      "metadata": {
        "id": "v6U1thEdRTOq"
      },
      "execution_count": null,
      "outputs": []
    },
    {
      "cell_type": "code",
      "source": [
        "(df['cum_subscription'] < 4000).sum() + 1"
      ],
      "metadata": {
        "id": "YmwR3eLhSaKt"
      },
      "execution_count": null,
      "outputs": []
    },
    {
      "cell_type": "markdown",
      "source": [
        "## Q5. Budget of 10,000 calls"
      ],
      "metadata": {
        "id": "MviM0DK4StZM"
      }
    },
    {
      "cell_type": "code",
      "source": [
        "call_list = df.index[:10000]\n",
        "call_list"
      ],
      "metadata": {
        "id": "Dg8ldkFsS523"
      },
      "execution_count": null,
      "outputs": []
    },
    {
      "cell_type": "code",
      "source": [
        "df['cum_subscription'][call_list[9999]]"
      ],
      "metadata": {
        "id": "cHdmG0kLTSHt"
      },
      "execution_count": null,
      "outputs": []
    }
  ]
}
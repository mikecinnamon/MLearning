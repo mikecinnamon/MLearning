{
  "nbformat": 4,
  "nbformat_minor": 0,
  "metadata": {
    "colab": {
      "provenance": [],
      "authorship_tag": "ABX9TyOzsfKp1J9+IQK4g+QRStyL",
      "include_colab_link": true
    },
    "kernelspec": {
      "name": "python3",
      "display_name": "Python 3"
    },
    "language_info": {
      "name": "python"
    }
  },
  "cells": [
    {
      "cell_type": "markdown",
      "metadata": {
        "id": "view-in-github",
        "colab_type": "text"
      },
      "source": [
        "<a href=\"https://colab.research.google.com/github/mikecinnamon/MLearning/blob/main/Notebooks/covid.ipynb\" target=\"_parent\"><img src=\"https://colab.research.google.com/assets/colab-badge.svg\" alt=\"Open In Colab\"/></a>"
      ]
    },
    {
      "cell_type": "markdown",
      "source": [
        "# [ML-26] Example - Semantic search of COVID-19 articles"
      ],
      "metadata": {
        "id": "43tmmMeWNRp1"
      }
    },
    {
      "cell_type": "markdown",
      "source": [
        "## Importing the data"
      ],
      "metadata": {
        "id": "OBltGI8JNVHG"
      }
    },
    {
      "cell_type": "code",
      "source": [
        "import pandas as pd, numpy\n",
        "path = 'https://raw.githubusercontent.com/mikecinnamon/Data/main/'\n",
        "df = pd.read_csv(path + 'covid.csv')"
      ],
      "metadata": {
        "id": "GfIB5a7wNZ3E"
      },
      "execution_count": null,
      "outputs": []
    },
    {
      "cell_type": "code",
      "source": [
        "df.info()"
      ],
      "metadata": {
        "id": "8rvuMUGqNfCy"
      },
      "execution_count": null,
      "outputs": []
    },
    {
      "cell_type": "code",
      "source": [
        "df[['title', 'abstract']].head()"
      ],
      "metadata": {
        "id": "V2DSoMYrNiij"
      },
      "execution_count": null,
      "outputs": []
    },
    {
      "cell_type": "code",
      "source": [
        "pd.concat([df['title'].str.len().describe(), df['abstract'].str.len().describe()], axis=1)"
      ],
      "metadata": {
        "id": "-LbF2yz9N2N5"
      },
      "execution_count": null,
      "outputs": []
    },
    {
      "cell_type": "markdown",
      "source": [
        "## Q1. Embedding model"
      ],
      "metadata": {
        "id": "xyqjSSTxN7sL"
      }
    },
    {
      "cell_type": "code",
      "source": [
        "pip install cohere"
      ],
      "metadata": {
        "id": "vlnoPfsaOFlW"
      },
      "execution_count": null,
      "outputs": []
    },
    {
      "cell_type": "code",
      "source": [
        "import cohere\n",
        "co = cohere.ClientV2(api_key='YOUR_API_KEY')"
      ],
      "metadata": {
        "id": "rBNcXGXAOqcf"
      },
      "execution_count": null,
      "outputs": []
    },
    {
      "cell_type": "code",
      "source": [
        "model_name = 'embed-english-v3.0'"
      ],
      "metadata": {
        "id": "L9xF0BHZOyCc"
      },
      "execution_count": null,
      "outputs": []
    },
    {
      "cell_type": "markdown",
      "source": [
        "## Q2. Encoding the query"
      ],
      "metadata": {
        "id": "OA0K8lcaO4Zj"
      }
    },
    {
      "cell_type": "code",
      "source": [
        "query = ['False positive rate in COVID test']"
      ],
      "metadata": {
        "id": "HBhLdy8jO9-N"
      },
      "execution_count": null,
      "outputs": []
    },
    {
      "cell_type": "code",
      "source": [
        "query_embed = co.embed(texts=query, model=model_name, input_type='search_query')"
      ],
      "metadata": {
        "id": "FsziUSXtQoJe"
      },
      "execution_count": null,
      "outputs": []
    },
    {
      "cell_type": "code",
      "source": [
        "query_embed = np.array(query_embed.embeddings[0])\n",
        "query_embed.shape"
      ],
      "metadata": {
        "id": "488ox0S0QweG"
      },
      "execution_count": null,
      "outputs": []
    },
    {
      "cell_type": "markdown",
      "source": [
        "## Q3. Encoding the abstracts"
      ],
      "metadata": {
        "id": "gqBKqLjJS36q"
      }
    },
    {
      "cell_type": "code",
      "source": [
        "import time"
      ],
      "metadata": {
        "id": "qPP3YQ0VS9h9"
      },
      "execution_count": null,
      "outputs": []
    },
    {
      "cell_type": "code",
      "source": [
        "abstract = df['abstract'].tolist()"
      ],
      "metadata": {
        "id": "VAjnbRBxTbJ2"
      },
      "execution_count": null,
      "outputs": []
    },
    {
      "cell_type": "code",
      "source": [
        "abstract_embed = co.embed(texts=abstract[:2500], model=model_name, input_type='search_document').embeddings"
      ],
      "metadata": {
        "id": "8-l5zaYNTfN9"
      },
      "execution_count": null,
      "outputs": []
    },
    {
      "cell_type": "code",
      "source": [
        "for i in range(1, 4):\n",
        "    time.sleep(60)\n",
        "    new_embed = co.embed(texts=abstract[(2500*i):2500*(i+1)], model=model_name, input_type='search_document').embeddings\n",
        "    abstract_embed = abstract_embed + new_embed"
      ],
      "metadata": {
        "id": "suoQOrphTprA"
      },
      "execution_count": null,
      "outputs": []
    },
    {
      "cell_type": "code",
      "source": [
        "df['abstract_embed'] = [np.array(e) for e in abstract_embed]"
      ],
      "metadata": {
        "id": "m20ClSDlTutE"
      },
      "execution_count": null,
      "outputs": []
    },
    {
      "cell_type": "code",
      "source": [
        "df.info()"
      ],
      "metadata": {
        "id": "q5TmGpxeTz7r"
      },
      "execution_count": null,
      "outputs": []
    },
    {
      "cell_type": "code",
      "source": [
        "df['abstract_embed'][0]"
      ],
      "metadata": {
        "id": "1iwIopTjT-Bs"
      },
      "execution_count": null,
      "outputs": []
    },
    {
      "cell_type": "markdown",
      "source": [
        "## Q4. Vector search"
      ],
      "metadata": {
        "id": "0hPExknAUBwz"
      }
    },
    {
      "cell_type": "code",
      "source": [
        "df['similarity'] = df['abstract_embed'].apply(lambda x: np.dot(x, query_embed))\n",
        "df.head()"
      ],
      "metadata": {
        "id": "LJiDfoSdjR-l"
      },
      "execution_count": null,
      "outputs": []
    },
    {
      "cell_type": "code",
      "source": [
        "search_output = df.sort_values(by='similarity', ascending=False).head(20)"
      ],
      "metadata": {
        "id": "DuTcPIqXj2j8"
      },
      "execution_count": null,
      "outputs": []
    },
    {
      "cell_type": "markdown",
      "source": [
        "## Q5. Reranking"
      ],
      "metadata": {
        "id": "u4dei-eyj9QZ"
      }
    },
    {
      "cell_type": "code",
      "source": [
        "model_name = 'rerank-english-v3.0'"
      ],
      "metadata": {
        "id": "uPcL5VOVkd3p"
      },
      "execution_count": null,
      "outputs": []
    },
    {
      "cell_type": "code",
      "source": [
        "docs = search_output['abstract'].tolist()"
      ],
      "metadata": {
        "id": "PfMyfmaPljYG"
      },
      "execution_count": null,
      "outputs": []
    },
    {
      "cell_type": "code",
      "source": [
        "top3 = co.rerank(model=model_name, query=query[0], documents=docs, top_n=3)\n",
        "top3.results"
      ],
      "metadata": {
        "id": "Mzo05QRolnMT"
      },
      "execution_count": null,
      "outputs": []
    },
    {
      "cell_type": "code",
      "source": [
        "selection = [r.index for r in top3.results]\n",
        "search_output['url'].iloc[selection]"
      ],
      "metadata": {
        "id": "bXnkgoo7lrCI"
      },
      "execution_count": null,
      "outputs": []
    }
  ]
}
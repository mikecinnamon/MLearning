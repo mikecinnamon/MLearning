{
  "nbformat": 4,
  "nbformat_minor": 0,
  "metadata": {
    "colab": {
      "provenance": [],
      "authorship_tag": "ABX9TyMPycWlkM6idOwft3HWeLzq",
      "include_colab_link": true
    },
    "kernelspec": {
      "name": "python3",
      "display_name": "Python 3"
    },
    "language_info": {
      "name": "python"
    }
  },
  "cells": [
    {
      "cell_type": "markdown",
      "metadata": {
        "id": "view-in-github",
        "colab_type": "text"
      },
      "source": [
        "<a href=\"https://colab.research.google.com/github/mikecinnamon/MLearning/blob/main/Notebooks/king.ipynb\" target=\"_parent\"><img src=\"https://colab.research.google.com/assets/colab-badge.svg\" alt=\"Open In Colab\"/></a>"
      ]
    },
    {
      "cell_type": "markdown",
      "source": [
        "# [MLE-04] Example - House sales in King County"
      ],
      "metadata": {
        "id": "wT8Z5qaXeCaL"
      }
    },
    {
      "cell_type": "markdown",
      "source": [
        "### Importing the data"
      ],
      "metadata": {
        "id": "j3djIEVxfEGq"
      }
    },
    {
      "cell_type": "code",
      "source": [
        "import pandas as pd"
      ],
      "metadata": {
        "id": "KEESB3BqmVPS"
      },
      "execution_count": null,
      "outputs": []
    },
    {
      "cell_type": "code",
      "source": [
        "path = 'https://raw.githubusercontent.com/mikecinnamon/Data/main/'"
      ],
      "metadata": {
        "id": "nsOU3QDWfJ7V"
      },
      "execution_count": null,
      "outputs": []
    },
    {
      "cell_type": "code",
      "source": [
        "df = pd.read_csv(path + 'king.csv', index_col=0)"
      ],
      "metadata": {
        "id": "SysUG_xTmZZl"
      },
      "execution_count": null,
      "outputs": []
    },
    {
      "cell_type": "markdown",
      "source": [
        "### Exploring the data"
      ],
      "metadata": {
        "id": "BVA52wkIfN4y"
      }
    },
    {
      "cell_type": "code",
      "source": [
        "df.info()"
      ],
      "metadata": {
        "id": "0Oxg8vM9fT6r"
      },
      "execution_count": null,
      "outputs": []
    },
    {
      "cell_type": "code",
      "source": [
        "df['price'] = df['price']/1000"
      ],
      "metadata": {
        "id": "tLbHuuSMfwym"
      },
      "execution_count": null,
      "outputs": []
    },
    {
      "cell_type": "markdown",
      "source": [
        "### Q1. Distribution of the sale price"
      ],
      "metadata": {
        "id": "ICzDbQ52f1gv"
      }
    },
    {
      "cell_type": "code",
      "source": [
        "df['price'].describe()"
      ],
      "metadata": {
        "id": "NOA2NO4qf771"
      },
      "execution_count": null,
      "outputs": []
    },
    {
      "cell_type": "code",
      "source": [
        "from matplotlib import pyplot as plt"
      ],
      "metadata": {
        "id": "p7Pn0s0zgP75"
      },
      "execution_count": null,
      "outputs": []
    },
    {
      "cell_type": "code",
      "source": [
        "plt.figure(figsize=(7,5))\n",
        "plt.title('Figure 1. Actual price')\n",
        "plt.hist(df['price'], color='gray', edgecolor='white')\n",
        "plt.xlabel('Sale price (thousands)');"
      ],
      "metadata": {
        "id": "oR_IsqbBgcRD"
      },
      "execution_count": null,
      "outputs": []
    },
    {
      "cell_type": "markdown",
      "source": [
        "### Q2. Linear regression equation"
      ],
      "metadata": {
        "id": "IlzjI1YmgfUq"
      }
    },
    {
      "cell_type": "code",
      "source": [
        "y = df.iloc[:, -1]\n",
        "X = df.iloc[:, 2:-1]"
      ],
      "metadata": {
        "id": "FnUWj9mSgkaV"
      },
      "execution_count": null,
      "outputs": []
    },
    {
      "cell_type": "code",
      "source": [
        "reg = LinearRegression()"
      ],
      "metadata": {
        "id": "3WkzPs45go0y"
      },
      "execution_count": null,
      "outputs": []
    },
    {
      "cell_type": "code",
      "source": [
        "reg.fit(X, y)"
      ],
      "metadata": {
        "id": "CoacYFB1g4jY"
      },
      "execution_count": null,
      "outputs": []
    },
    {
      "cell_type": "code",
      "source": [
        "y_pred = reg.predict(X)"
      ],
      "metadata": {
        "id": "dq9P3ETShFBz"
      },
      "execution_count": null,
      "outputs": []
    },
    {
      "cell_type": "code",
      "source": [
        "round(reg.score(X, y), 3)"
      ],
      "metadata": {
        "id": "Hw4NTg6kiFaN"
      },
      "execution_count": null,
      "outputs": []
    },
    {
      "cell_type": "markdown",
      "source": [
        "### Q3. Plot the actual price versus the price predicted by your model"
      ],
      "metadata": {
        "id": "rYaoPUZRiNcG"
      }
    },
    {
      "cell_type": "code",
      "source": [
        "plt.figure(figsize=(5,5))\n",
        "plt.title('Figure 2. Actual price vs predicted price')\n",
        "plt.scatter(x=y_pred, y=y, color='black', s=1)\n",
        "plt.xlabel('Predicted price (thousands)')\n",
        "plt.ylabel('Actual price (thousands)');"
      ],
      "metadata": {
        "id": "sdPE3vpGiVj-"
      },
      "execution_count": null,
      "outputs": []
    },
    {
      "cell_type": "code",
      "source": [
        "plt.figure(figsize=(5,5))\n",
        "plt.title('Figure 3. Absolute prediction error vs predicted price')\n",
        "plt.scatter(x=y_pred, y=abs(y-y_pred), color='black', s=1)\n",
        "plt.xlabel('Predicted price (thousands)')\n",
        "plt.ylabel('Absolute predicted error (thousands)');"
      ],
      "metadata": {
        "id": "jj1pObA5iduZ"
      },
      "execution_count": null,
      "outputs": []
    },
    {
      "cell_type": "code",
      "source": [
        "(y_pred < 0).sum()"
      ],
      "metadata": {
        "id": "YlK0Af8uihuI"
      },
      "execution_count": null,
      "outputs": []
    },
    {
      "cell_type": "markdown",
      "source": [
        "### Q4. Dummies for the zipcodes"
      ],
      "metadata": {
        "id": "Rg5VitjNikZ0"
      }
    },
    {
      "cell_type": "code",
      "source": [
        "X1 = df.iloc[:, 4:-1]"
      ],
      "metadata": {
        "id": "7hxHITp5pohg"
      },
      "execution_count": null,
      "outputs": []
    },
    {
      "cell_type": "code",
      "source": [
        "X2 = pd.get_dummies(df['zipcode'])"
      ],
      "metadata": {
        "id": "Io8fKOEmpsyq"
      },
      "execution_count": null,
      "outputs": []
    },
    {
      "cell_type": "code",
      "source": [
        "X2.head()"
      ],
      "metadata": {
        "id": "5ubLjtwapu6Y"
      },
      "execution_count": null,
      "outputs": []
    },
    {
      "cell_type": "code",
      "source": [
        "X = pd.concat([X1, X2], axis=1)"
      ],
      "metadata": {
        "id": "sLY3KzAxpyKX"
      },
      "execution_count": null,
      "outputs": []
    },
    {
      "cell_type": "code",
      "source": [
        "X.shape"
      ],
      "metadata": {
        "id": "wYIfLlDzp9Mr"
      },
      "execution_count": null,
      "outputs": []
    },
    {
      "cell_type": "code",
      "source": [
        "X = X.values"
      ],
      "metadata": {
        "id": "9XNrMVgcqBdU"
      },
      "execution_count": null,
      "outputs": []
    },
    {
      "cell_type": "code",
      "source": [
        "reg.fit(X, y)"
      ],
      "metadata": {
        "id": "hGHZsGjBqJm_"
      },
      "execution_count": null,
      "outputs": []
    },
    {
      "cell_type": "code",
      "source": [
        "y_pred = reg.predict(X)"
      ],
      "metadata": {
        "id": "yRkBbkqiqPar"
      },
      "execution_count": null,
      "outputs": []
    },
    {
      "cell_type": "code",
      "source": [
        "round(reg.score(X, y), 3)"
      ],
      "metadata": {
        "id": "MBJw3GN7qX3G"
      },
      "execution_count": null,
      "outputs": []
    },
    {
      "cell_type": "code",
      "source": [
        "plt.figure(figsize=(5,5))\n",
        "plt.title('Figure 4. Actual price vs predicted price')\n",
        "plt.scatter(x=y_pred, y=y, color='black', s=1)\n",
        "plt.xlabel('Predicted price (thousands)')\n",
        "plt.ylabel('Actual price (thousands)');"
      ],
      "metadata": {
        "id": "dvZL94ZvqapK"
      },
      "execution_count": null,
      "outputs": []
    },
    {
      "cell_type": "code",
      "source": [
        "(y_pred < 0).sum()"
      ],
      "metadata": {
        "id": "GuoOcSRqqdHR"
      },
      "execution_count": null,
      "outputs": []
    }
  ]
}
{
  "nbformat": 4,
  "nbformat_minor": 0,
  "metadata": {
    "colab": {
      "provenance": [],
      "authorship_tag": "ABX9TyNSVw47V+iRHUcutocULKgd",
      "include_colab_link": true
    },
    "kernelspec": {
      "name": "python3",
      "display_name": "Python 3"
    },
    "language_info": {
      "name": "python"
    }
  },
  "cells": [
    {
      "cell_type": "markdown",
      "metadata": {
        "id": "view-in-github",
        "colab_type": "text"
      },
      "source": [
        "<a href=\"https://colab.research.google.com/github/mikecinnamon/MLearning/blob/main/Notebooks/churn.ipynb\" target=\"_parent\"><img src=\"https://colab.research.google.com/assets/colab-badge.svg\" alt=\"Open In Colab\"/></a>"
      ]
    },
    {
      "cell_type": "markdown",
      "source": [
        "# [MLE-06] Example - The churn model"
      ],
      "metadata": {
        "id": "v-EXmBTIw-hb"
      }
    },
    {
      "cell_type": "markdown",
      "source": [
        "### Importing the data"
      ],
      "metadata": {
        "id": "IdF-IBvFxBaI"
      }
    },
    {
      "cell_type": "code",
      "source": [
        "import pandas as pd\n",
        "path = 'https://raw.githubusercontent.com/mikecinnamon/Data/main/'\n",
        "df = pd.read_csv(path + 'churn.csv', index_col=0)"
      ],
      "metadata": {
        "id": "lP_LdOvFxPzQ"
      },
      "execution_count": null,
      "outputs": []
    },
    {
      "cell_type": "markdown",
      "source": [
        "### Exploring the data"
      ],
      "metadata": {
        "id": "LAmxhUPCxYk3"
      }
    },
    {
      "cell_type": "code",
      "source": [
        "df.info()"
      ],
      "metadata": {
        "id": "NCqX_SkixcTb"
      },
      "execution_count": null,
      "outputs": []
    },
    {
      "cell_type": "markdown",
      "source": [
        "### Q1. Logistic regression equation"
      ],
      "metadata": {
        "id": "oXDXg8EZxifO"
      }
    },
    {
      "cell_type": "code",
      "source": [
        "y = df['churn']\n",
        "X = df.drop(columns='churn')"
      ],
      "metadata": {
        "id": "xUHKSBehxlnE"
      },
      "execution_count": null,
      "outputs": []
    },
    {
      "cell_type": "code",
      "source": [
        "from sklearn.linear_model import LogisticRegression\n",
        "clf = LogisticRegression(max_iter=2000)"
      ],
      "metadata": {
        "id": "QQWjmHM1xpu1"
      },
      "execution_count": null,
      "outputs": []
    },
    {
      "cell_type": "code",
      "source": [
        "clf.fit(X, y)"
      ],
      "metadata": {
        "id": "GcT2v0JsxsH-"
      },
      "execution_count": null,
      "outputs": []
    },
    {
      "cell_type": "code",
      "source": [
        "round(clf.score(X, y), 3)"
      ],
      "metadata": {
        "id": "RvRCViU5xuB6"
      },
      "execution_count": null,
      "outputs": []
    },
    {
      "cell_type": "code",
      "source": [
        "clf.predict_proba(X)"
      ],
      "metadata": {
        "id": "hkdouwalxw4A"
      },
      "execution_count": null,
      "outputs": []
    },
    {
      "cell_type": "code",
      "source": [
        "df['score'] = clf.predict_proba(X)[:, 1]"
      ],
      "metadata": {
        "id": "KjIQU48bx4c-"
      },
      "execution_count": null,
      "outputs": []
    },
    {
      "cell_type": "code",
      "source": [
        "df[['churn', 'score']]"
      ],
      "metadata": {
        "id": "YtZNK74Ux7eN"
      },
      "execution_count": null,
      "outputs": []
    },
    {
      "cell_type": "markdown",
      "source": [
        "### Q2. Distribution of the churn scores"
      ],
      "metadata": {
        "id": "AWe7LFaIx970"
      }
    },
    {
      "cell_type": "code",
      "source": [
        "from matplotlib import pyplot as plt"
      ],
      "metadata": {
        "id": "sZJ7c2xLyEvc"
      },
      "execution_count": null,
      "outputs": []
    },
    {
      "cell_type": "code",
      "source": [
        "# Set the size of the figure\n",
        "plt.figure(figsize=(12,5))\n",
        "# First subplot\n",
        "plt.subplot(1, 2, 1)\n",
        "plt.hist(df['score'][y == 1], range=(0,1), color='gray', edgecolor='white')\n",
        "plt.title('Figure 1.a. Scores (churners)')\n",
        "plt.xlabel('Churn score')\n",
        "# Second subplot\n",
        "plt.subplot(1, 2, 2)\n",
        "plt.hist(df['score'][y == 0], range=(0,1), color='gray', edgecolor='white')\n",
        "plt.title('Figure 1.b. Scores (non-churners)')\n",
        "plt.xlabel('Churn score');"
      ],
      "metadata": {
        "id": "VWA3qEmYyG1Z"
      },
      "execution_count": null,
      "outputs": []
    },
    {
      "cell_type": "markdown",
      "source": [
        "### Q3. Set a threshold for the churn scores"
      ],
      "metadata": {
        "id": "vRUGhl_PyIzP"
      }
    },
    {
      "cell_type": "code",
      "source": [
        "y_pred = clf.predict(X)"
      ],
      "metadata": {
        "id": "jxCzxCJFyNDl"
      },
      "execution_count": null,
      "outputs": []
    },
    {
      "cell_type": "code",
      "source": [
        "from sklearn.metrics import confusion_matrix\n",
        "confusion_matrix(y, y_pred)"
      ],
      "metadata": {
        "id": "7bTgWJq7yQ0e"
      },
      "execution_count": null,
      "outputs": []
    },
    {
      "cell_type": "code",
      "source": [
        "(y == y_pred).mean().round(3)"
      ],
      "metadata": {
        "id": "ESZN7KMsyTJX"
      },
      "execution_count": null,
      "outputs": []
    },
    {
      "cell_type": "code",
      "source": [
        "y_pred = (df['score'] > 0.2).astype(int)"
      ],
      "metadata": {
        "id": "gg6mvS2fyaId"
      },
      "execution_count": null,
      "outputs": []
    },
    {
      "cell_type": "code",
      "source": [
        "confusion_matrix(y, y_pred)"
      ],
      "metadata": {
        "id": "V7MMqdAhycnr"
      },
      "execution_count": null,
      "outputs": []
    },
    {
      "cell_type": "code",
      "source": [
        "(y == y_pred).mean().round(3)"
      ],
      "metadata": {
        "id": "_BauYJ3KyfeU"
      },
      "execution_count": null,
      "outputs": []
    },
    {
      "cell_type": "code",
      "source": [
        "y_pred[y == 1].mean().round(3)"
      ],
      "metadata": {
        "id": "MR3yfm9dyh4y"
      },
      "execution_count": null,
      "outputs": []
    },
    {
      "cell_type": "code",
      "source": [
        "y_pred[y == 0].mean().round(3)"
      ],
      "metadata": {
        "id": "kjGO1zxsyyuV"
      },
      "execution_count": null,
      "outputs": []
    }
  ]
}
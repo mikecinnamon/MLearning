{
  "nbformat": 4,
  "nbformat_minor": 0,
  "metadata": {
    "colab": {
      "provenance": [],
      "authorship_tag": "ABX9TyPzVRYJ/sHMbBTZFqMxVJCF",
      "include_colab_link": true
    },
    "kernelspec": {
      "name": "python3",
      "display_name": "Python 3"
    },
    "language_info": {
      "name": "python"
    }
  },
  "cells": [
    {
      "cell_type": "markdown",
      "metadata": {
        "id": "view-in-github",
        "colab_type": "text"
      },
      "source": [
        "<a href=\"https://colab.research.google.com/github/mikecinnamon/MLearning/blob/main/Notebooks/mnist-1.ipynb\" target=\"_parent\"><img src=\"https://colab.research.google.com/assets/colab-badge.svg\" alt=\"Open In Colab\"/></a>"
      ]
    },
    {
      "cell_type": "markdown",
      "source": [
        "# [ML-17] Example - The MNIST data (1)"
      ],
      "metadata": {
        "id": "5q0NBdAY0ykN"
      }
    },
    {
      "cell_type": "markdown",
      "source": [
        "## Importing the data"
      ],
      "metadata": {
        "id": "bAc3CdKh07DT"
      }
    },
    {
      "cell_type": "code",
      "source": [
        "import numpy as np, pandas as pd\n",
        "path = 'https://raw.githubusercontent.com/mikecinnamon/Data/main/'\n",
        "df = pd.read_csv(path + 'mnist.csv.zip')"
      ],
      "metadata": {
        "id": "QbOjbMk-0_KB"
      },
      "execution_count": null,
      "outputs": []
    },
    {
      "cell_type": "code",
      "source": [
        "df.shape"
      ],
      "metadata": {
        "id": "WU-OuRgi1JXr"
      },
      "execution_count": null,
      "outputs": []
    },
    {
      "cell_type": "markdown",
      "source": [
        "## Target vector and features matrix"
      ],
      "metadata": {
        "id": "hCfAzSbj1Ti0"
      }
    },
    {
      "cell_type": "code",
      "source": [
        "y = df.iloc[:, 0]\n",
        "y.value_counts()"
      ],
      "metadata": {
        "id": "3SFWGlPw1ZER"
      },
      "execution_count": null,
      "outputs": []
    },
    {
      "cell_type": "code",
      "source": [
        "X = df.iloc[:, 1:].values\n",
        "np.unique(X)"
      ],
      "metadata": {
        "id": "PPSxd_9r1c34"
      },
      "execution_count": null,
      "outputs": []
    },
    {
      "cell_type": "markdown",
      "source": [
        "## Q1. Plotting the first image"
      ],
      "metadata": {
        "id": "_9T2gc1A3joW"
      }
    },
    {
      "cell_type": "code",
      "source": [
        "pic = X[0, :].reshape(28,28)"
      ],
      "metadata": {
        "id": "tzYp6AC632cl"
      },
      "execution_count": null,
      "outputs": []
    },
    {
      "cell_type": "code",
      "source": [
        "from matplotlib import pyplot as plt\n",
        "plt.imshow(pic);"
      ],
      "metadata": {
        "id": "hTDam_L634vl"
      },
      "execution_count": null,
      "outputs": []
    },
    {
      "cell_type": "code",
      "source": [
        "plt.imshow(pic, cmap='gray');"
      ],
      "metadata": {
        "id": "lNWSEFpi4ECW"
      },
      "execution_count": null,
      "outputs": []
    },
    {
      "cell_type": "code",
      "source": [
        "plt.gray()\n",
        "plt.imshow(255 - pic);"
      ],
      "metadata": {
        "id": "I278eGYO5J57"
      },
      "execution_count": null,
      "outputs": []
    },
    {
      "cell_type": "markdown",
      "source": [
        "## Q2. Plotting other images"
      ],
      "metadata": {
        "id": "tg30YVAC6jsd"
      }
    },
    {
      "cell_type": "code",
      "source": [
        "pic = X[1, :].reshape(28,28)\n",
        "plt.imshow(255 - pic);"
      ],
      "metadata": {
        "id": "PLpip7Sy6wu8"
      },
      "execution_count": null,
      "outputs": []
    },
    {
      "cell_type": "code",
      "source": [
        "pic = X[2, :].reshape(28,28)\n",
        "plt.imshow(255 - pic);"
      ],
      "metadata": {
        "id": "v8cK0lyB62Ra"
      },
      "execution_count": null,
      "outputs": []
    },
    {
      "cell_type": "markdown",
      "source": [
        "## Q3. Train-test split"
      ],
      "metadata": {
        "id": "ZKy_f7Y-652J"
      }
    },
    {
      "cell_type": "code",
      "source": [
        "from sklearn.model_selection import train_test_split\n",
        "X_train, X_test, y_train, y_test = train_test_split(X, y, test_size=1/7)"
      ],
      "metadata": {
        "id": "LEoH2hz37JGh"
      },
      "execution_count": null,
      "outputs": []
    },
    {
      "cell_type": "markdown",
      "source": [
        "## Q4. Decision tree classifier"
      ],
      "metadata": {
        "id": "XhLWoIIC8n2v"
      }
    },
    {
      "cell_type": "code",
      "source": [
        "from sklearn.tree import DecisionTreeClassifier\n",
        "treeclf = DecisionTreeClassifier(max_leaf_nodes=128)\n",
        "treeclf.fit(X_train, y_train)"
      ],
      "metadata": {
        "id": "hpxA518u8ulw"
      },
      "execution_count": null,
      "outputs": []
    },
    {
      "cell_type": "code",
      "source": [
        "round(treeclf.score(X_train, y_train), 3), round(treeclf.score(X_test, y_test), 3)"
      ],
      "metadata": {
        "id": "Ef0_LvsA8yJ_"
      },
      "execution_count": null,
      "outputs": []
    },
    {
      "cell_type": "markdown",
      "source": [
        "## Q5. Random forest classifier"
      ],
      "metadata": {
        "id": "9c0_hU-V84OQ"
      }
    },
    {
      "cell_type": "code",
      "source": [
        "from sklearn.ensemble import RandomForestClassifier\n",
        "rfclf1 = RandomForestClassifier(max_leaf_nodes=128, n_estimators=10)\n",
        "rfclf1.fit(X_train, y_train)"
      ],
      "metadata": {
        "id": "bk7XcqpB9BG3"
      },
      "execution_count": null,
      "outputs": []
    },
    {
      "cell_type": "code",
      "source": [
        "round(rfclf1.score(X_train, y_train), 3), round(rfclf1.score(X_test, y_test), 3)"
      ],
      "metadata": {
        "id": "f-pVcUnW9Se-"
      },
      "execution_count": null,
      "outputs": []
    },
    {
      "cell_type": "markdown",
      "source": [
        "## Q6. Change the specification"
      ],
      "metadata": {
        "id": "aCp3SiG29WsG"
      }
    },
    {
      "cell_type": "code",
      "source": [
        "rfclf2 = RandomForestClassifier(max_leaf_nodes=128, n_estimators=50)\n",
        "rfclf2.fit(X_train, y_train)\n",
        "round(rfclf2.score(X_train, y_train), 3), round(rfclf2.score(X_test, y_test), 3)"
      ],
      "metadata": {
        "id": "U22FfB3t9fQT"
      },
      "execution_count": null,
      "outputs": []
    },
    {
      "cell_type": "code",
      "source": [
        "rfclf3 = RandomForestClassifier(max_leaf_nodes=128, n_estimators=100)\n",
        "rfclf3.fit(X_train, y_train)\n",
        "round(rfclf3.score(X_train, y_train), 3), round(rfclf3.score(X_test, y_test), 3)"
      ],
      "metadata": {
        "id": "ep9G0JPt9ltK"
      },
      "execution_count": null,
      "outputs": []
    },
    {
      "cell_type": "code",
      "source": [
        "rfclf4 = RandomForestClassifier(max_depth=7, n_estimators=100)\n",
        "rfclf4.fit(X_train, y_train)\n",
        "round(rfclf4.score(X_train, y_train), 3), round(rfclf4.score(X_test, y_test), 3)"
      ],
      "metadata": {
        "id": "U4J7ZA-w_sQP"
      },
      "execution_count": null,
      "outputs": []
    },
    {
      "cell_type": "code",
      "source": [
        "rfclf5 = RandomForestClassifier(max_leaf_nodes=256, n_estimators=100)\n",
        "rfclf5.fit(X_train, y_train)\n",
        "round(rfclf5.score(X_train, y_train), 3), round(rfclf5.score(X_test, y_test), 3)"
      ],
      "metadata": {
        "collapsed": true,
        "id": "9ebOalob_4Et"
      },
      "execution_count": null,
      "outputs": []
    }
  ]
}
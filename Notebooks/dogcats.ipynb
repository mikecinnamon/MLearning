{
  "nbformat": 4,
  "nbformat_minor": 0,
  "metadata": {
    "colab": {
      "provenance": [],
      "gpuType": "T4",
      "authorship_tag": "ABX9TyMawYYWXioyAchGXlI7XWH3",
      "include_colab_link": true
    },
    "kernelspec": {
      "name": "python3",
      "display_name": "Python 3"
    },
    "language_info": {
      "name": "python"
    },
    "accelerator": "GPU"
  },
  "cells": [
    {
      "cell_type": "markdown",
      "metadata": {
        "id": "view-in-github",
        "colab_type": "text"
      },
      "source": [
        "<a href=\"https://colab.research.google.com/github/mikecinnamon/MLearning/blob/main/Notebooks/dogcats.ipynb\" target=\"_parent\"><img src=\"https://colab.research.google.com/assets/colab-badge.svg\" alt=\"Open In Colab\"/></a>"
      ]
    },
    {
      "cell_type": "markdown",
      "source": [
        "# [ML-21] Example - The dogs vs cats data set"
      ],
      "metadata": {
        "id": "Y17e_meAIrY6"
      }
    },
    {
      "cell_type": "markdown",
      "source": [
        "## Q1a. Creating a data folder"
      ],
      "metadata": {
        "id": "CGgmbxoJI5wH"
      }
    },
    {
      "cell_type": "code",
      "source": [
        "import os"
      ],
      "metadata": {
        "id": "k0aQ5WfhvfrX"
      },
      "execution_count": null,
      "outputs": []
    },
    {
      "cell_type": "code",
      "source": [
        "os.mkdir('data/')"
      ],
      "metadata": {
        "id": "REtzC3cFv6vS"
      },
      "execution_count": null,
      "outputs": []
    },
    {
      "cell_type": "markdown",
      "source": [
        "## Q1b. Dowloading the zip files"
      ],
      "metadata": {
        "id": "npN6E8O8vi85"
      }
    },
    {
      "cell_type": "code",
      "source": [
        "import requests"
      ],
      "metadata": {
        "id": "syNc6s_ivn2Z"
      },
      "execution_count": null,
      "outputs": []
    },
    {
      "cell_type": "code",
      "source": [
        "gitpath = 'https://raw.githubusercontent.com/mikecinnamon/Data/main/'"
      ],
      "metadata": {
        "id": "KK9nL4IowArx"
      },
      "execution_count": null,
      "outputs": []
    },
    {
      "cell_type": "code",
      "source": [
        "gitlist = ['cats-train.zip', 'cats-test.zip', 'dogs-train.zip', 'dogs-test.zip']"
      ],
      "metadata": {
        "id": "Gh3IOOyPwDIu"
      },
      "execution_count": null,
      "outputs": []
    },
    {
      "cell_type": "code",
      "source": [
        "for f in gitlist:\n",
        "\tr = requests.get(gitpath + f, stream=True)\n",
        "\tconn = open('data/' + f, mode='wb')\n",
        "\tconn.write(r.content)\n",
        "\tconn.close()"
      ],
      "metadata": {
        "id": "SeCtflkYwGWt"
      },
      "execution_count": null,
      "outputs": []
    },
    {
      "cell_type": "markdown",
      "source": [
        "## Q1c. Unzipping and removing the zip files"
      ],
      "metadata": {
        "id": "DIcYO36PwKS3"
      }
    },
    {
      "cell_type": "code",
      "source": [
        "import zipfile"
      ],
      "metadata": {
        "id": "LK5yD7GMwOSC"
      },
      "execution_count": null,
      "outputs": []
    },
    {
      "cell_type": "code",
      "source": [
        "ziplist = [f for f in os.listdir('data/') if 'zip' in f]"
      ],
      "metadata": {
        "id": "QLaSh-TiwQqa"
      },
      "execution_count": null,
      "outputs": []
    },
    {
      "cell_type": "code",
      "source": [
        "for f in ziplist:\n",
        "\tzf = zipfile.ZipFile('data/' + f, 'r')\n",
        "\tzf.extractall('data/')\n",
        "\tdel zf\n",
        "\tos.remove('data/' + f)"
      ],
      "metadata": {
        "id": "HBnryhXlwUEF"
      },
      "execution_count": null,
      "outputs": []
    },
    {
      "cell_type": "code",
      "source": [
        "os.listdir('data/')"
      ],
      "metadata": {
        "id": "NG9o_QJAwbum"
      },
      "execution_count": null,
      "outputs": []
    },
    {
      "cell_type": "code",
      "source": [
        "len(os.listdir('data/dogs-train/'))"
      ],
      "metadata": {
        "id": "ASfZrCW_wfWy"
      },
      "execution_count": null,
      "outputs": []
    },
    {
      "cell_type": "markdown",
      "source": [
        "## Q2a. Converting images to tensors"
      ],
      "metadata": {
        "id": "9SBAABv7wibK"
      }
    },
    {
      "cell_type": "code",
      "source": [
        "import numpy as np, cv2"
      ],
      "metadata": {
        "id": "yW9G9RvIwrWc"
      },
      "execution_count": null,
      "outputs": []
    },
    {
      "cell_type": "code",
      "source": [
        "def img_to_arr(f):\n",
        "    arr = cv2.imread(f)\n",
        "    resized_arr = cv2.resize(arr, (150, 150), interpolation=cv2.INTER_LANCZOS4)\n",
        "    reshaped_arr = resized_arr.reshape(1, 150, 150, 3)\n",
        "    return reshaped_arr"
      ],
      "metadata": {
        "id": "WR1u2H_kwuUs"
      },
      "execution_count": null,
      "outputs": []
    },
    {
      "cell_type": "markdown",
      "source": [
        "## Q2b. Training data"
      ],
      "metadata": {
        "id": "qr959jU8wynm"
      }
    },
    {
      "cell_type": "code",
      "source": [
        "X_train = img_to_arr('data/dogs-train/' + os.listdir('data/dogs-train')[0])"
      ],
      "metadata": {
        "id": "EmEK28vjw4IV"
      },
      "execution_count": null,
      "outputs": []
    },
    {
      "cell_type": "code",
      "source": [
        "for i in range(1, 1000):\n",
        "    X_train = np.concatenate([X_train, img_to_arr('data/dogs-train/' + os.listdir('data/dogs-train')[i])])"
      ],
      "metadata": {
        "id": "osWNbLb-w8Xn"
      },
      "execution_count": null,
      "outputs": []
    },
    {
      "cell_type": "code",
      "source": [
        "for i in range(1000):\n",
        "    X_train = np.concatenate([X_train, img_to_arr('data/cats-train/' + os.listdir('data/cats-train')[i])])"
      ],
      "metadata": {
        "id": "6kCE-aIJxNGe"
      },
      "execution_count": null,
      "outputs": []
    },
    {
      "cell_type": "code",
      "source": [
        "X_train = X_train/255"
      ],
      "metadata": {
        "id": "GrUj0ocHxP9o"
      },
      "execution_count": null,
      "outputs": []
    },
    {
      "cell_type": "code",
      "source": [
        "y_train = np.concatenate([np.ones(1000), np.zeros(1000)])"
      ],
      "metadata": {
        "id": "5V-ul-tNxRVz"
      },
      "execution_count": null,
      "outputs": []
    },
    {
      "cell_type": "code",
      "source": [
        "X_train.shape, y_train.shape"
      ],
      "metadata": {
        "id": "tuwNaT04xURM"
      },
      "execution_count": null,
      "outputs": []
    },
    {
      "cell_type": "markdown",
      "source": [
        "## Q2c. Test data"
      ],
      "metadata": {
        "id": "u51xEHCVxiTK"
      }
    },
    {
      "cell_type": "code",
      "source": [
        "X_test = img_to_arr('data/dogs-test/' + os.listdir('data/dogs-test')[0])\n",
        "for i in range(1, 500):\n",
        "    X_test = np.concatenate([X_test, img_to_arr('data/dogs-test/' + os.listdir('data/dogs-test')[i])])\n",
        "for i in range(500):\n",
        "    X_test = np.concatenate([X_test, img_to_arr('data/cats-test/' + os.listdir('data/cats-test')[i])])\n",
        "X_test = X_test/255\n",
        "y_test = np.concatenate([np.ones(500), np.zeros(500)])\n",
        "X_test.shape, y_test.shape"
      ],
      "metadata": {
        "id": "2phafdHTxVkf"
      },
      "execution_count": null,
      "outputs": []
    },
    {
      "cell_type": "markdown",
      "source": [
        "## Q3. Training a CNN model from scratch"
      ],
      "metadata": {
        "id": "rzV55pbDxg5l"
      }
    },
    {
      "cell_type": "code",
      "source": [
        "from keras import Input, models, layers"
      ],
      "metadata": {
        "id": "bN9Fp8iCxy7H"
      },
      "execution_count": null,
      "outputs": []
    },
    {
      "cell_type": "code",
      "source": [
        "input_tensor = Input(shape=(150, 150, 3))"
      ],
      "metadata": {
        "id": "K5IaRqxax2Or"
      },
      "execution_count": null,
      "outputs": []
    },
    {
      "cell_type": "code",
      "source": [
        "x1 = layers.Conv2D(32, (3, 3), activation='relu')(input_tensor)\n",
        "x2 = layers.MaxPooling2D((2, 2))(x1)\n",
        "x3 = layers.Conv2D(64, (3, 3), activation='relu')(x2)\n",
        "x4 = layers.MaxPooling2D((2, 2))(x3)\n",
        "x5 = layers.Conv2D(128, (3, 3), activation='relu')(x4)\n",
        "x6 = layers.MaxPooling2D((2, 2))(x5)\n",
        "x7 = layers.Conv2D(128, (3, 3), activation='relu')(x6)\n",
        "x8 = layers.MaxPooling2D((2, 2))(x7)\n",
        "x9 = layers.Flatten()(x8)\n",
        "x10 = layers.Dense(512, activation='relu')(x9)"
      ],
      "metadata": {
        "id": "KzhgdSlhyFAz"
      },
      "execution_count": null,
      "outputs": []
    },
    {
      "cell_type": "code",
      "source": [
        "output_tensor = layers.Dense(2, activation='softmax')(x10)"
      ],
      "metadata": {
        "id": "L8HPAAa4yIl_"
      },
      "execution_count": null,
      "outputs": []
    },
    {
      "cell_type": "code",
      "source": [
        "clf1 = models.Model(input_tensor, output_tensor)"
      ],
      "metadata": {
        "id": "lG5cXYSNyLQs"
      },
      "execution_count": null,
      "outputs": []
    },
    {
      "cell_type": "code",
      "source": [
        "clf1.summary()"
      ],
      "metadata": {
        "id": "VzlNbOJfyNli"
      },
      "execution_count": null,
      "outputs": []
    },
    {
      "cell_type": "code",
      "source": [
        "clf1.compile(optimizer='adam', loss='sparse_categorical_crossentropy', metrics=['acc'])"
      ],
      "metadata": {
        "id": "Wdt3Ob7MyO8-"
      },
      "execution_count": null,
      "outputs": []
    },
    {
      "cell_type": "code",
      "source": [
        "clf1.fit(X_train, y_train, epochs=10, validation_data=(X_test, y_test));"
      ],
      "metadata": {
        "id": "Q0nd9PtLySnv"
      },
      "execution_count": null,
      "outputs": []
    },
    {
      "cell_type": "markdown",
      "source": [
        "## Q4a. Pre-trained CNN model"
      ],
      "metadata": {
        "id": "3Tx8T2f7yUNq"
      }
    },
    {
      "cell_type": "code",
      "source": [
        "from keras.applications import VGG16"
      ],
      "metadata": {
        "id": "9aTiJqfTy74T"
      },
      "execution_count": null,
      "outputs": []
    },
    {
      "cell_type": "code",
      "source": [
        "conv_base = VGG16(weights='imagenet', include_top=False, input_shape=(150, 150, 3))\n",
        "conv_base.summary()"
      ],
      "metadata": {
        "id": "Q9zvqTdSzJZZ"
      },
      "execution_count": null,
      "outputs": []
    },
    {
      "cell_type": "code",
      "source": [
        "conv_base.trainable = False"
      ],
      "metadata": {
        "id": "889VuJzYzM1W"
      },
      "execution_count": null,
      "outputs": []
    },
    {
      "cell_type": "markdown",
      "source": [
        "## Q4b. Adding a densely connected classifier on top"
      ],
      "metadata": {
        "id": "zF3kZPi6zR29"
      }
    },
    {
      "cell_type": "code",
      "source": [
        "input_tensor = Input(shape=(150, 150, 3))\n",
        "x1 = conv_base(input_tensor)\n",
        "x2 = layers.Flatten()(x1)\n",
        "x3 = layers.Dense(256, activation='relu')(x2)\n",
        "output_tensor = layers.Dense(2, activation='softmax')(x3)\n",
        "clf2 = models.Model(input_tensor, output_tensor)\n",
        "clf2.summary()"
      ],
      "metadata": {
        "id": "DDvbMjexzobI"
      },
      "execution_count": null,
      "outputs": []
    },
    {
      "cell_type": "markdown",
      "source": [
        "## Q5. Training the new model"
      ],
      "metadata": {
        "id": "FI93TYhc0NZy"
      }
    },
    {
      "cell_type": "code",
      "source": [
        "clf2.compile(optimizer='adam', loss='sparse_categorical_crossentropy', metrics=['acc'])\n",
        "clf2.fit(X_train, y_train, epochs=5, validation_data=(X_test, y_test));"
      ],
      "metadata": {
        "id": "6FLbKNML0R4H"
      },
      "execution_count": null,
      "outputs": []
    },
    {
      "cell_type": "code",
      "source": [],
      "metadata": {
        "id": "PrVeyNBY0VHo"
      },
      "execution_count": null,
      "outputs": []
    }
  ]
}
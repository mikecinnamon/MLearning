{
  "nbformat": 4,
  "nbformat_minor": 0,
  "metadata": {
    "colab": {
      "provenance": [],
      "authorship_tag": "ABX9TyOv51Xo/Txm3lBQavbU2X8D",
      "include_colab_link": true
    },
    "kernelspec": {
      "name": "python3",
      "display_name": "Python 3"
    },
    "language_info": {
      "name": "python"
    }
  },
  "cells": [
    {
      "cell_type": "markdown",
      "metadata": {
        "id": "view-in-github",
        "colab_type": "text"
      },
      "source": [
        "<a href=\"https://colab.research.google.com/github/mikecinnamon/MLearning/blob/main/Notebooks/pcos.ipynb\" target=\"_parent\"><img src=\"https://colab.research.google.com/assets/colab-badge.svg\" alt=\"Open In Colab\"/></a>"
      ]
    },
    {
      "cell_type": "markdown",
      "source": [
        "# [ML-12] Example - Polycystic ovary syndrome (PCOS) diagnosis"
      ],
      "metadata": {
        "id": "fpqah8MmLYus"
      }
    },
    {
      "cell_type": "markdown",
      "source": [
        "## Importing the data"
      ],
      "metadata": {
        "id": "BebIGXuXL43S"
      }
    },
    {
      "cell_type": "code",
      "source": [
        "import pandas as pd\n",
        "path = 'https://raw.githubusercontent.com/mikecinnamon/Data/main/'\n",
        "df = pd.read_csv(path + 'pcos.csv', index_col=0)"
      ],
      "metadata": {
        "id": "s81k4Sh5MEzQ"
      },
      "execution_count": null,
      "outputs": []
    },
    {
      "cell_type": "markdown",
      "source": [
        "## Exploring the data"
      ],
      "metadata": {
        "id": "ZFeTXQp7cTQ7"
      }
    },
    {
      "cell_type": "code",
      "source": [
        "df.info()"
      ],
      "metadata": {
        "id": "muD_ypGZMX1k"
      },
      "execution_count": null,
      "outputs": []
    },
    {
      "cell_type": "code",
      "source": [
        "df['pcos'].mean().round(3)"
      ],
      "metadata": {
        "id": "OVTX9xliMbXy"
      },
      "execution_count": null,
      "outputs": []
    },
    {
      "cell_type": "markdown",
      "source": [
        "## Target vector and features matrix"
      ],
      "metadata": {
        "id": "KKshIxd-cjFU"
      }
    },
    {
      "cell_type": "code",
      "source": [
        "y = df['pcos']\n",
        "X1 = df.drop(columns=['blood', 'pcos'])"
      ],
      "metadata": {
        "id": "JZfh-Xz0Mrju"
      },
      "execution_count": null,
      "outputs": []
    },
    {
      "cell_type": "code",
      "source": [
        "X2 = pd.get_dummies(df['blood'])\n",
        "X2.columns"
      ],
      "metadata": {
        "id": "yZtVTHX4g7dW"
      },
      "execution_count": null,
      "outputs": []
    },
    {
      "cell_type": "code",
      "source": [
        "X2.columns = ['A+', 'A-', 'B+', 'B-', 'O+', 'O-', 'AB+', 'AB-']"
      ],
      "metadata": {
        "id": "KLSQJ9j6g6U3"
      },
      "execution_count": null,
      "outputs": []
    },
    {
      "cell_type": "code",
      "source": [
        "X = pd.concat([X1, X2], axis=1)"
      ],
      "metadata": {
        "id": "gk77ZMwXg57o"
      },
      "execution_count": null,
      "outputs": []
    },
    {
      "cell_type": "markdown",
      "source": [
        "## Q1. Decision tree classifier"
      ],
      "metadata": {
        "id": "drundiRuMmro"
      }
    },
    {
      "cell_type": "code",
      "source": [
        "from sklearn.tree import DecisionTreeClassifier\n",
        "clf = DecisionTreeClassifier(criterion='entropy', max_depth=5)\n",
        "clf.fit(X, y)"
      ],
      "metadata": {
        "id": "bEJihm7wNPYU"
      },
      "execution_count": null,
      "outputs": []
    },
    {
      "cell_type": "code",
      "source": [
        "round(clf.score(X, y), 3)"
      ],
      "metadata": {
        "id": "vTaBe-GwNpYi"
      },
      "execution_count": null,
      "outputs": []
    },
    {
      "cell_type": "code",
      "source": [
        "y_pred = clf.predict(X)\n",
        "from sklearn.metrics import confusion_matrix\n",
        "confusion_matrix(y, y_pred)"
      ],
      "metadata": {
        "id": "NA-JaBgMOiMZ"
      },
      "execution_count": null,
      "outputs": []
    },
    {
      "cell_type": "code",
      "source": [
        "importance = pd.Series(clf.feature_importances_, index=X.columns)\n",
        "print(importance[importance > 0].sort_values(ascending=False).round(3))"
      ],
      "metadata": {
        "id": "MoWuzprMey2k"
      },
      "execution_count": null,
      "outputs": []
    },
    {
      "cell_type": "markdown",
      "source": [
        "## Q2. Extra features"
      ],
      "metadata": {
        "id": "Xa5g1x8KOnV8"
      }
    },
    {
      "cell_type": "code",
      "source": [
        "X['bmi'] = df['weight']/df['height']**2\n",
        "X['lh_fsh'] = df['lh']/df['fsh']\n",
        "X['hip_waist'] = df['hip']/df['waist']"
      ],
      "metadata": {
        "id": "oymZE6GsO-_4"
      },
      "execution_count": null,
      "outputs": []
    },
    {
      "cell_type": "code",
      "source": [
        "clf.fit(X, y)\n",
        "round(clf.score(X, y), 3)"
      ],
      "metadata": {
        "id": "BikmIiW6PGAv"
      },
      "execution_count": null,
      "outputs": []
    },
    {
      "cell_type": "code",
      "source": [
        "importance = pd.Series(clf.feature_importances_, index=X.columns)\n",
        "print(importance[importance > 0].sort_values(ascending=False).round(3))"
      ],
      "metadata": {
        "id": "usKrhwQUPIsZ"
      },
      "execution_count": null,
      "outputs": []
    },
    {
      "cell_type": "markdown",
      "source": [
        "## Q3. 3-fold cross-validation"
      ],
      "metadata": {
        "id": "kGLbmrgSPivG"
      }
    },
    {
      "cell_type": "code",
      "source": [
        "from sklearn.model_selection import cross_val_score\n",
        "cross_val_score(clf, X, y, cv=3).round(3)"
      ],
      "metadata": {
        "id": "Yub6KEtcPx93"
      },
      "execution_count": null,
      "outputs": []
    },
    {
      "cell_type": "markdown",
      "source": [
        "## Q4. Reduce the size of the decision tree"
      ],
      "metadata": {
        "id": "E39j8KV4QZhs"
      }
    },
    {
      "cell_type": "code",
      "source": [
        "clf = DecisionTreeClassifier(criterion='entropy', max_depth=4)\n",
        "clf.fit(X, y)\n",
        "round(clf.score(X, y), 3)"
      ],
      "metadata": {
        "id": "NwXcfLtPRKqC"
      },
      "execution_count": null,
      "outputs": []
    },
    {
      "cell_type": "code",
      "source": [
        "cross_val_score(clf, X, y, cv=3).round(3)"
      ],
      "metadata": {
        "id": "v6U1thEdRTOq"
      },
      "execution_count": null,
      "outputs": []
    },
    {
      "cell_type": "code",
      "source": [
        "clf = DecisionTreeClassifier(criterion='entropy', max_leaf_nodes=6)\n",
        "clf.fit(X, y)\n",
        "round(clf.score(X, y), 3)"
      ],
      "metadata": {
        "id": "YmwR3eLhSaKt"
      },
      "execution_count": null,
      "outputs": []
    },
    {
      "cell_type": "code",
      "source": [
        "importance = pd.Series(clf.feature_importances_, index=X.columns)\n",
        "print(importance[importance > 0].sort_values(ascending=False).round(3))"
      ],
      "metadata": {
        "id": "Dg8ldkFsS523"
      },
      "execution_count": null,
      "outputs": []
    },
    {
      "cell_type": "code",
      "source": [
        "cross_val_score(clf, X, y, cv=3).round(3)"
      ],
      "metadata": {
        "id": "QIHUgtPExU9f"
      },
      "execution_count": null,
      "outputs": []
    },
    {
      "cell_type": "markdown",
      "source": [
        "## Plotting the tree"
      ],
      "metadata": {
        "id": "VL3nhN0n76dy"
      }
    },
    {
      "cell_type": "code",
      "source": [
        "from matplotlib import pyplot as plt\n",
        "from sklearn.tree import plot_tree\n",
        "plt.figure(figsize=(13,7))\n",
        "plot_tree(clf, fontsize=10)\n",
        "plt.title('Figure 1. PCOS diagnosis tree', fontsize=16);"
      ],
      "metadata": {
        "id": "cHdmG0kLTSHt"
      },
      "execution_count": null,
      "outputs": []
    }
  ]
}